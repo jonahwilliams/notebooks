{
 "cells": [
  {
   "cell_type": "code",
   "execution_count": 1,
   "metadata": {
    "collapsed": true
   },
   "outputs": [],
   "source": [
    "import numpy as np\n",
    "import pandas as pd\n",
    "import matplotlib.pyplot as plt\n",
    "import seaborn as sns\n",
    "from sklearn.cross_validation import train_test_split\n",
    "from sklearn.metrics import confusion_matrix\n",
    "\n",
    "%matplotlib inline"
   ]
  },
  {
   "cell_type": "code",
   "execution_count": 90,
   "metadata": {
    "collapsed": false
   },
   "outputs": [
    {
     "data": {
      "text/html": [
       "<div style=\"max-height:1000px;max-width:1500px;overflow:auto;\">\n",
       "<table border=\"1\" class=\"dataframe\">\n",
       "  <thead>\n",
       "    <tr style=\"text-align: right;\">\n",
       "      <th></th>\n",
       "      <th>Elevation</th>\n",
       "      <th>Aspect</th>\n",
       "      <th>Slope</th>\n",
       "      <th>Horizontal_Distance_To_Hydrology</th>\n",
       "      <th>Vertical_Distance_To_Hydrology</th>\n",
       "      <th>Horizontal_Distance_To_Roadways</th>\n",
       "      <th>Hillshade_9am</th>\n",
       "      <th>Hillshade_Noon</th>\n",
       "      <th>Hillshade_3pm</th>\n",
       "      <th>Horizontal_Distance_To_Fire_Points</th>\n",
       "      <th>...</th>\n",
       "      <th>Soil_Type32</th>\n",
       "      <th>Soil_Type33</th>\n",
       "      <th>Soil_Type34</th>\n",
       "      <th>Soil_Type35</th>\n",
       "      <th>Soil_Type36</th>\n",
       "      <th>Soil_Type37</th>\n",
       "      <th>Soil_Type38</th>\n",
       "      <th>Soil_Type39</th>\n",
       "      <th>Soil_Type40</th>\n",
       "      <th>Cover_Type</th>\n",
       "    </tr>\n",
       "  </thead>\n",
       "  <tbody>\n",
       "    <tr>\n",
       "      <th>0</th>\n",
       "      <td> 2596</td>\n",
       "      <td>  51</td>\n",
       "      <td>  3</td>\n",
       "      <td> 258</td>\n",
       "      <td>   0</td>\n",
       "      <td>  510</td>\n",
       "      <td> 221</td>\n",
       "      <td> 232</td>\n",
       "      <td> 148</td>\n",
       "      <td> 6279</td>\n",
       "      <td>...</td>\n",
       "      <td> 0</td>\n",
       "      <td> 0</td>\n",
       "      <td> 0</td>\n",
       "      <td> 0</td>\n",
       "      <td> 0</td>\n",
       "      <td> 0</td>\n",
       "      <td> 0</td>\n",
       "      <td> 0</td>\n",
       "      <td> 0</td>\n",
       "      <td> 5</td>\n",
       "    </tr>\n",
       "    <tr>\n",
       "      <th>1</th>\n",
       "      <td> 2590</td>\n",
       "      <td>  56</td>\n",
       "      <td>  2</td>\n",
       "      <td> 212</td>\n",
       "      <td>  -6</td>\n",
       "      <td>  390</td>\n",
       "      <td> 220</td>\n",
       "      <td> 235</td>\n",
       "      <td> 151</td>\n",
       "      <td> 6225</td>\n",
       "      <td>...</td>\n",
       "      <td> 0</td>\n",
       "      <td> 0</td>\n",
       "      <td> 0</td>\n",
       "      <td> 0</td>\n",
       "      <td> 0</td>\n",
       "      <td> 0</td>\n",
       "      <td> 0</td>\n",
       "      <td> 0</td>\n",
       "      <td> 0</td>\n",
       "      <td> 5</td>\n",
       "    </tr>\n",
       "    <tr>\n",
       "      <th>2</th>\n",
       "      <td> 2804</td>\n",
       "      <td> 139</td>\n",
       "      <td>  9</td>\n",
       "      <td> 268</td>\n",
       "      <td>  65</td>\n",
       "      <td> 3180</td>\n",
       "      <td> 234</td>\n",
       "      <td> 238</td>\n",
       "      <td> 135</td>\n",
       "      <td> 6121</td>\n",
       "      <td>...</td>\n",
       "      <td> 0</td>\n",
       "      <td> 0</td>\n",
       "      <td> 0</td>\n",
       "      <td> 0</td>\n",
       "      <td> 0</td>\n",
       "      <td> 0</td>\n",
       "      <td> 0</td>\n",
       "      <td> 0</td>\n",
       "      <td> 0</td>\n",
       "      <td> 2</td>\n",
       "    </tr>\n",
       "    <tr>\n",
       "      <th>3</th>\n",
       "      <td> 2785</td>\n",
       "      <td> 155</td>\n",
       "      <td> 18</td>\n",
       "      <td> 242</td>\n",
       "      <td> 118</td>\n",
       "      <td> 3090</td>\n",
       "      <td> 238</td>\n",
       "      <td> 238</td>\n",
       "      <td> 122</td>\n",
       "      <td> 6211</td>\n",
       "      <td>...</td>\n",
       "      <td> 0</td>\n",
       "      <td> 0</td>\n",
       "      <td> 0</td>\n",
       "      <td> 0</td>\n",
       "      <td> 0</td>\n",
       "      <td> 0</td>\n",
       "      <td> 0</td>\n",
       "      <td> 0</td>\n",
       "      <td> 0</td>\n",
       "      <td> 2</td>\n",
       "    </tr>\n",
       "    <tr>\n",
       "      <th>4</th>\n",
       "      <td> 2595</td>\n",
       "      <td>  45</td>\n",
       "      <td>  2</td>\n",
       "      <td> 153</td>\n",
       "      <td>  -1</td>\n",
       "      <td>  391</td>\n",
       "      <td> 220</td>\n",
       "      <td> 234</td>\n",
       "      <td> 150</td>\n",
       "      <td> 6172</td>\n",
       "      <td>...</td>\n",
       "      <td> 0</td>\n",
       "      <td> 0</td>\n",
       "      <td> 0</td>\n",
       "      <td> 0</td>\n",
       "      <td> 0</td>\n",
       "      <td> 0</td>\n",
       "      <td> 0</td>\n",
       "      <td> 0</td>\n",
       "      <td> 0</td>\n",
       "      <td> 5</td>\n",
       "    </tr>\n",
       "  </tbody>\n",
       "</table>\n",
       "<p>5 rows × 55 columns</p>\n",
       "</div>"
      ],
      "text/plain": [
       "   Elevation  Aspect  Slope  Horizontal_Distance_To_Hydrology  \\\n",
       "0       2596      51      3                               258   \n",
       "1       2590      56      2                               212   \n",
       "2       2804     139      9                               268   \n",
       "3       2785     155     18                               242   \n",
       "4       2595      45      2                               153   \n",
       "\n",
       "   Vertical_Distance_To_Hydrology  Horizontal_Distance_To_Roadways  \\\n",
       "0                               0                              510   \n",
       "1                              -6                              390   \n",
       "2                              65                             3180   \n",
       "3                             118                             3090   \n",
       "4                              -1                              391   \n",
       "\n",
       "   Hillshade_9am  Hillshade_Noon  Hillshade_3pm  \\\n",
       "0            221             232            148   \n",
       "1            220             235            151   \n",
       "2            234             238            135   \n",
       "3            238             238            122   \n",
       "4            220             234            150   \n",
       "\n",
       "   Horizontal_Distance_To_Fire_Points     ...      Soil_Type32  Soil_Type33  \\\n",
       "0                                6279     ...                0            0   \n",
       "1                                6225     ...                0            0   \n",
       "2                                6121     ...                0            0   \n",
       "3                                6211     ...                0            0   \n",
       "4                                6172     ...                0            0   \n",
       "\n",
       "   Soil_Type34  Soil_Type35  Soil_Type36  Soil_Type37  Soil_Type38  \\\n",
       "0            0            0            0            0            0   \n",
       "1            0            0            0            0            0   \n",
       "2            0            0            0            0            0   \n",
       "3            0            0            0            0            0   \n",
       "4            0            0            0            0            0   \n",
       "\n",
       "   Soil_Type39  Soil_Type40  Cover_Type  \n",
       "0            0            0           5  \n",
       "1            0            0           5  \n",
       "2            0            0           2  \n",
       "3            0            0           2  \n",
       "4            0            0           5  \n",
       "\n",
       "[5 rows x 55 columns]"
      ]
     },
     "execution_count": 90,
     "metadata": {},
     "output_type": "execute_result"
    }
   ],
   "source": [
    "data = pd.read_csv(\"/Users/jonahwilliams/Documents/Kaggle/Forest/train.csv\")\n",
    "data = data.drop(\"Id\", axis=1)\n",
    "data.head()"
   ]
  },
  {
   "cell_type": "markdown",
   "metadata": {
    "collapsed": true
   },
   "source": [
    "So here we have the forrest cover data - it looks like we have several real-valued dimensions, as well as several binary dimensions.  With a mix of data types, a good first stab is a random forrest.  \n",
    "\n",
    "I'll go ahead and create a validation set for comparison of the different model techniques"
   ]
  },
  {
   "cell_type": "code",
   "execution_count": 93,
   "metadata": {
    "collapsed": true
   },
   "outputs": [],
   "source": [
    "X = data.values[:, 0:-1]\n",
    "y = data.values[:, -1]"
   ]
  },
  {
   "cell_type": "code",
   "execution_count": 66,
   "metadata": {
    "collapsed": false
   },
   "outputs": [
    {
     "data": {
      "text/plain": [
       "array([[2596,   51,    3, ...,    0,    0,    0],\n",
       "       [2590,   56,    2, ...,    0,    0,    0],\n",
       "       [2804,  139,    9, ...,    0,    0,    0],\n",
       "       ..., \n",
       "       [2492,  134,   25, ...,    0,    0,    0],\n",
       "       [2487,  167,   28, ...,    0,    0,    0],\n",
       "       [2475,  197,   34, ...,    0,    0,    0]])"
      ]
     },
     "execution_count": 66,
     "metadata": {},
     "output_type": "execute_result"
    }
   ],
   "source": [
    "X"
   ]
  },
  {
   "cell_type": "code",
   "execution_count": 67,
   "metadata": {
    "collapsed": false
   },
   "outputs": [
    {
     "data": {
      "text/plain": [
       "array([5, 5, 2, ..., 3, 3, 3])"
      ]
     },
     "execution_count": 67,
     "metadata": {},
     "output_type": "execute_result"
    }
   ],
   "source": [
    "y"
   ]
  },
  {
   "cell_type": "code",
   "execution_count": 68,
   "metadata": {
    "collapsed": true
   },
   "outputs": [],
   "source": [
    "X_train, X_test, y_train, y_test = train_test_split(\n",
    "    X, y, test_size=0.1, random_state=42)"
   ]
  },
  {
   "cell_type": "code",
   "execution_count": 7,
   "metadata": {
    "collapsed": false
   },
   "outputs": [
    {
     "name": "stderr",
     "output_type": "stream",
     "text": [
      "[Parallel(n_jobs=1)]: Done   1 jobs       | elapsed:    0.4s\n",
      "[Parallel(n_jobs=1)]: Done   1 out of   1 | elapsed:    0.4s finished\n"
     ]
    },
    {
     "data": {
      "text/plain": [
       "RandomForestClassifier(bootstrap=True, compute_importances=None,\n",
       "            criterion='gini', max_depth=None, max_features='auto',\n",
       "            max_leaf_nodes=None, min_density=None, min_samples_leaf=1,\n",
       "            min_samples_split=2, n_estimators=10, n_jobs=1,\n",
       "            oob_score=False, random_state=None, verbose=True)"
      ]
     },
     "execution_count": 7,
     "metadata": {},
     "output_type": "execute_result"
    }
   ],
   "source": [
    "from sklearn.ensemble import RandomForestClassifier\n",
    "rfc = RandomForestClassifier(verbose=True)\n",
    "rfc.fit(X_train, y_train)"
   ]
  },
  {
   "cell_type": "code",
   "execution_count": 8,
   "metadata": {
    "collapsed": false
   },
   "outputs": [
    {
     "name": "stderr",
     "output_type": "stream",
     "text": [
      "[Parallel(n_jobs=1)]: Done   1 jobs       | elapsed:    0.0s\n",
      "[Parallel(n_jobs=1)]: Done   1 out of   1 | elapsed:    0.0s finished\n"
     ]
    },
    {
     "data": {
      "text/plain": [
       "0.85449735449735453"
      ]
     },
     "execution_count": 8,
     "metadata": {},
     "output_type": "execute_result"
    }
   ],
   "source": [
    "rfc.score(X_test, y_test)"
   ]
  },
  {
   "cell_type": "code",
   "execution_count": 9,
   "metadata": {
    "collapsed": false
   },
   "outputs": [
    {
     "name": "stderr",
     "output_type": "stream",
     "text": [
      "[Parallel(n_jobs=1)]: Done   1 jobs       | elapsed:    0.0s\n",
      "[Parallel(n_jobs=1)]: Done   1 out of   1 | elapsed:    0.0s finished\n"
     ]
    },
    {
     "data": {
      "image/png": "[encoded data removed]",
      "text/plain": [
       "<matplotlib.figure.Figure at 0x100734610>"
      ]
     },
     "metadata": {},
     "output_type": "display_data"
    }
   ],
   "source": [
    "y_pred = rfc.predict(X_test)\n",
    "cm = confusion_matrix(y_test, y_pred)\n",
    "\n",
    "sns.set_style(\"white\")\n",
    "plt.figure(figsize=(10,10))\n",
    "plt.imshow(cm, interpolation=\"nearest\", cmap=\"Blues\")\n",
    "plt.xlabel(\"predicted label\")\n",
    "plt.ylabel(\"correct label\")\n",
    "plt.colorbar()\n",
    "plt.show()"
   ]
  },
  {
   "cell_type": "code",
   "execution_count": 10,
   "metadata": {
    "collapsed": false
   },
   "outputs": [
    {
     "data": {
      "text/plain": [
       "array([[179,  32,   0,   0,   6,   0,  10],\n",
       "       [ 49, 141,   6,   1,   9,   3,   1],\n",
       "       [  0,   1, 195,  12,   2,  27,   0],\n",
       "       [  0,   0,   3, 198,   0,   3,   0],\n",
       "       [  0,   4,   7,   0, 189,   3,   0],\n",
       "       [  0,   2,  22,   6,   0, 177,   0],\n",
       "       [ 10,   1,   0,   0,   0,   0, 213]])"
      ]
     },
     "execution_count": 10,
     "metadata": {},
     "output_type": "execute_result"
    }
   ],
   "source": [
    "cm"
   ]
  },
  {
   "cell_type": "markdown",
   "metadata": {},
   "source": [
    "So out of the box, the random forrest gives us fairly good results with default settings - an overall accuracy of 0.83.  Lets see if we can take advantage of some of the nice SVM properties with different kernels.  We have both continuous and binary data - if we can use a polynomial kernel with the binary data (computing logical conjunctions) and an rbf kernel with the continuous data, all optimized with a GP, maybe we can improve our results evern further\n",
    "\n",
    "\n",
    "Polynomial Kernel\n",
    "\n",
    "$$K(x, y) = (x \\cdot y^{T} + c)^d$$\n",
    "\n",
    "Therefore we'll need to choose values of c and values of $d \\geq 1$\n",
    "\n",
    "RBF Kernel\n",
    "\n",
    "$$K(x, y) = exp(\\frac{||x - y ||^2}{2\\sigma^2}) $$\n",
    "\n",
    "Therefore we'll need to choose a value of sigma for each real valued dimension -  though at first we'll use one value.\n",
    "\n",
    "In order to combine the kernels we will precompute the gram matrix for python"
   ]
  },
  {
   "cell_type": "code",
   "execution_count": 39,
   "metadata": {
    "collapsed": false
   },
   "outputs": [],
   "source": [
    "def compute_gram(X, gamma=0.1, d=3):\n",
    "    gram_real = np.zeros((len(X), len(X)), dtype=np.float64)\n",
    "    gram_binary = np.zeros((len(X), len(X)), dtype=np.int64)\n",
    "    \n",
    "    # Compute Kernel for real valued features\n",
    "    gram_real = (np.sum(X[:,0:10]**2, 1).reshape(-1, 1) + np.sum(X[:,0:10]**2, 1)\n",
    "                 -2 * np.dot(X[:,0:10], X[:,0:10].T))\n",
    "    gram_real = np.exp(gamma * gram_real)\n",
    "    \n",
    "    # Compute Kernel for binary features\n",
    "    gram_binary = (np.dot(X[:,10:], X[:,10:].T))**d\n",
    "    return gram_real * gram_binary"
   ]
  },
  {
   "cell_type": "code",
   "execution_count": 33,
   "metadata": {
    "collapsed": false
   },
   "outputs": [],
   "source": [
    "# we should normalize the real features for numerical stability\n",
    "X_train_norm = X_train.copy()\n",
    "X_train_norm = X_train_norm.astype(float)\n",
    "X_train_norm[:,0:10] = (X_train_norm[:, 0:10] - np.mean(X_train[:, 0:10], axis=0)) / np.std(X_train[:,0:10], 0)"
   ]
  },
  {
   "cell_type": "code",
   "execution_count": 34,
   "metadata": {
    "collapsed": false
   },
   "outputs": [],
   "source": [
    "gram_matrix = compute_gram(X_train_norm, 1, 2)"
   ]
  },
  {
   "cell_type": "code",
   "execution_count": 35,
   "metadata": {
    "collapsed": false
   },
   "outputs": [
    {
     "data": {
      "text/plain": [
       "array([[  4.00000000e+00,   0.00000000e+00,   0.00000000e+00, ...,\n",
       "          0.00000000e+00,   0.00000000e+00,   0.00000000e+00],\n",
       "       [  0.00000000e+00,   4.00000000e+00,   0.00000000e+00, ...,\n",
       "          0.00000000e+00,   4.30892139e+03,   0.00000000e+00],\n",
       "       [  0.00000000e+00,   0.00000000e+00,   4.00000000e+00, ...,\n",
       "          8.86156321e+01,   0.00000000e+00,   3.80965787e+01],\n",
       "       ..., \n",
       "       [  0.00000000e+00,   0.00000000e+00,   8.86156321e+01, ...,\n",
       "          4.00000000e+00,   0.00000000e+00,   1.06657339e+01],\n",
       "       [  0.00000000e+00,   4.30892139e+03,   0.00000000e+00, ...,\n",
       "          0.00000000e+00,   4.00000000e+00,   0.00000000e+00],\n",
       "       [  0.00000000e+00,   0.00000000e+00,   3.80965787e+01, ...,\n",
       "          1.06657339e+01,   0.00000000e+00,   4.00000000e+00]])"
      ]
     },
     "execution_count": 35,
     "metadata": {},
     "output_type": "execute_result"
    }
   ],
   "source": [
    "gram_matrix"
   ]
  },
  {
   "cell_type": "code",
   "execution_count": 36,
   "metadata": {
    "collapsed": false
   },
   "outputs": [],
   "source": [
    "from sklearn.svm import SVC\n",
    "clf = SVC(kernel=\"precomputed\", verbose=True)"
   ]
  },
  {
   "cell_type": "code",
   "execution_count": 37,
   "metadata": {
    "collapsed": false
   },
   "outputs": [
    {
     "name": "stdout",
     "output_type": "stream",
     "text": [
      "[LibSVM]"
     ]
    },
    {
     "data": {
      "text/plain": [
       "SVC(C=1.0, cache_size=200, class_weight=None, coef0=0.0, degree=3, gamma=0.0,\n",
       "  kernel='precomputed', max_iter=-1, probability=False, random_state=None,\n",
       "  shrinking=True, tol=0.001, verbose=True)"
      ]
     },
     "execution_count": 37,
     "metadata": {},
     "output_type": "execute_result"
    }
   ],
   "source": [
    "clf.fit(gram_matrix, y_train)"
   ]
  },
  {
   "cell_type": "code",
   "execution_count": 38,
   "metadata": {
    "collapsed": false
   },
   "outputs": [
    {
     "data": {
      "text/plain": [
       "0.15174897119341563"
      ]
     },
     "execution_count": 38,
     "metadata": {},
     "output_type": "execute_result"
    }
   ],
   "source": [
    "clf.score(gram_matrix, y_train)"
   ]
  },
  {
   "cell_type": "code",
   "execution_count": 24,
   "metadata": {
    "collapsed": true
   },
   "outputs": [],
   "source": [
    "# Not great!"
   ]
  },
  {
   "cell_type": "code",
   "execution_count": 46,
   "metadata": {
    "collapsed": false
   },
   "outputs": [
    {
     "name": "stdout",
     "output_type": "stream",
     "text": [
      "current score: 0.524323927102, best score: 0\n",
      "current score: 0.155349794239, best score: 0.524323927102\n",
      "current score: 0.459729570841, best score: 0.524323927102\n",
      "current score: 0.4699441505, best score: 0.524323927102\n",
      "current score: 0.580393885949, best score: 0.524323927102\n",
      "current score: 0.143812463257, best score: 0.580393885949\n",
      "current score: 0.595238095238, best score: 0.580393885949\n",
      "current score: 0.41879776602, best score: 0.595238095238\n",
      "current score: 0.472075249853, best score: 0.595238095238\n",
      "current score: 0.597810111699, best score: 0.595238095238\n"
     ]
    }
   ],
   "source": [
    "best_score = 0\n",
    "best_params = [0, 0, 0]\n",
    "for i in range(10):\n",
    "    c = np.random.randint(-20, 20)\n",
    "    g = np.random.randint(-20, 0)\n",
    "    d = np.random.randint(1, 5)\n",
    "\n",
    "    gram_matrix = compute_gram(X_train_norm, gamma=2**g, d=d)\n",
    "    clf = SVC(kernel=\"precomputed\", C=2**c)\n",
    "    clf.fit(gram_matrix, y_train)\n",
    "    score = clf.score(gram_matrix, y_train)\n",
    "    print \"current score: \" + str(score) + \", best score: \" + str(best_score)\n",
    "    if score > best_score:\n",
    "        best_score = score\n",
    "        best_params = [c, g, d]\n"
   ]
  },
  {
   "cell_type": "code",
   "execution_count": 47,
   "metadata": {
    "collapsed": false
   },
   "outputs": [
    {
     "data": {
      "text/plain": [
       "[0, -19, 3]"
      ]
     },
     "execution_count": 47,
     "metadata": {},
     "output_type": "execute_result"
    }
   ],
   "source": [
    "best_params"
   ]
  },
  {
   "cell_type": "markdown",
   "metadata": {},
   "source": [
    "Well I had some slight improvement - but really its still pretty shit"
   ]
  },
  {
   "cell_type": "code",
   "execution_count": 58,
   "metadata": {
    "collapsed": true
   },
   "outputs": [],
   "source": [
    "clf = SVC(kernel=\"rbf\")"
   ]
  },
  {
   "cell_type": "code",
   "execution_count": 72,
   "metadata": {
    "collapsed": false
   },
   "outputs": [],
   "source": [
    "X_test_norm = X_test.copy()\n",
    "X_test_norm[:, 0:10] = (X_test_norm[:, 0:10] - np.mean(X_train[:, 0:10], axis=0)) / np.std(X_train[:,0:10], 0)\n",
    "X_train_norm = X_train.copy()\n",
    "X_train_norm = X_train_norm.astype(float)\n",
    "X_train_norm[:,0:10] = (X_train_norm[:, 0:10] - np.mean(X_train[:, 0:10], axis=0)) / np.std(X_train[:,0:10], 0)"
   ]
  },
  {
   "cell_type": "code",
   "execution_count": 73,
   "metadata": {
    "collapsed": false
   },
   "outputs": [
    {
     "data": {
      "text/plain": [
       "0.61904761904761907"
      ]
     },
     "execution_count": 73,
     "metadata": {},
     "output_type": "execute_result"
    }
   ],
   "source": [
    "clf.fit(X_train_norm, y_train)\n",
    "clf.score(X_test_norm, y_test)"
   ]
  },
  {
   "cell_type": "markdown",
   "metadata": {},
   "source": [
    "How about total overkill?"
   ]
  },
  {
   "cell_type": "code",
   "execution_count": 91,
   "metadata": {
    "collapsed": true
   },
   "outputs": [],
   "source": [
    "from __future__ import absolute_import\n",
    "from __future__ import print_function\n",
    "\n",
    "from sklearn.preprocessing import LabelEncoder\n",
    "from sklearn.preprocessing import StandardScaler\n",
    "\n",
    "from keras.models import Sequential\n",
    "from keras.layers.core import Dense, Dropout, Activation\n",
    "from keras.layers.normalization import BatchNormalization\n",
    "from keras.layers.advanced_activations import PReLU\n",
    "from keras.utils import np_utils, generic_utils\n",
    "import keras.optimizers"
   ]
  },
  {
   "cell_type": "code",
   "execution_count": 185,
   "metadata": {
    "collapsed": false
   },
   "outputs": [
    {
     "name": "stdout",
     "output_type": "stream",
     "text": [
      "TRAIN: [ 7044 12136  7130 ...,  4171  3360  1039] TEST: [12841 13526  1512 ...,  4215 13122 12759]\n"
     ]
    }
   ],
   "source": [
    "from sklearn.cross_validation import StratifiedShuffleSplit\n",
    "X = data.values[:, 0:-1]\n",
    "y = data.values[:, -1]\n",
    "# convert 0 and 1 to -1 and 1\n",
    "X[:,10:] *= 2\n",
    "X[:,10:] -= 1\n",
    "\n",
    "\n",
    "sss = StratifiedShuffleSplit(y, n_iter=1, test_size=0.15, random_state=0)\n",
    "\n",
    "\n",
    "for train_index, test_index in sss:\n",
    "    print(\"TRAIN:\", train_index, \"TEST:\", test_index)\n",
    "    X_train, X_test = X[train_index], X[test_index]\n",
    "    y_train, y_test = y[train_index], y[test_index]\n",
    "    \n",
    "X_train[:,0:10] = (X_train[:,0:10] - np.mean(X_train[:,0:10], 0)) / np.std(X_train[:,0:10], 0)\n",
    "X_test[:,0:10] = (X_test[:,0:10] - np.mean(X_train[:,0:10], 0)) / np.std(X_train[:,0:10], 0)"
   ]
  },
  {
   "cell_type": "code",
   "execution_count": 186,
   "metadata": {
    "collapsed": false
   },
   "outputs": [
    {
     "name": "stdout",
     "output_type": "stream",
     "text": [
      "Training model...\n",
      "Epoch 0\n",
      "12852/12852 [==============================] - 1s - loss: 29.5417     \n",
      "Epoch 1\n",
      "12852/12852 [==============================] - 2s - loss: 29.5584     \n",
      "Epoch 2\n",
      "12852/12852 [==============================] - 2s - loss: 29.5690     \n",
      "Epoch 3\n",
      "12852/12852 [==============================] - 2s - loss: 29.5957     \n",
      "Epoch 4\n",
      "12852/12852 [==============================] - 2s - loss: 29.5903     \n",
      "Epoch 5\n",
      "12852/12852 [==============================] - 2s - loss: 29.6604     \n",
      "Epoch 6\n",
      "12852/12852 [==============================] - 2s - loss: 29.6092     \n",
      "Epoch 7\n",
      "12852/12852 [==============================] - 2s - loss: 29.5742     \n",
      "Epoch 8\n",
      "12852/12852 [==============================] - 3s - loss: 29.6821     \n",
      "Epoch 9\n",
      "12852/12852 [==============================] - 3s - loss: 29.6820     \n",
      "Epoch 10\n",
      "12852/12852 [==============================] - 3s - loss: 29.6068     \n",
      "Epoch 11\n",
      "12852/12852 [==============================] - 3s - loss: 29.6418     \n",
      "Epoch 12\n",
      "12852/12852 [==============================] - 3s - loss: 29.6147     \n",
      "Epoch 13\n",
      "12852/12852 [==============================] - 2s - loss: 29.5851     \n",
      "Epoch 14\n",
      "12852/12852 [==============================] - 2s - loss: 29.6309     \n",
      "Epoch 15\n",
      "12852/12852 [==============================] - 2s - loss: 29.5767     \n",
      "Epoch 16\n",
      "12852/12852 [==============================] - 2s - loss: 29.5907     \n",
      "Epoch 17\n",
      "12852/12852 [==============================] - 2s - loss: 29.6174     \n",
      "Epoch 18\n",
      "12852/12852 [==============================] - 2s - loss: 29.5878     \n",
      "Epoch 19\n",
      "12852/12852 [==============================] - 2s - loss: 29.5928     \n",
      "Epoch 20\n",
      "12852/12852 [==============================] - 2s - loss: 29.6174     \n",
      "Epoch 21\n",
      "12852/12852 [==============================] - 2s - loss: 29.5231     \n",
      "Epoch 22\n",
      "12852/12852 [==============================] - 2s - loss: 29.5094     \n",
      "Epoch 23\n",
      "12852/12852 [==============================] - 2s - loss: 29.5957     \n",
      "Epoch 24\n",
      "12852/12852 [==============================] - 2s - loss: 29.5902     \n",
      "Epoch 25\n",
      "12852/12852 [==============================] - 2s - loss: 29.6712     \n",
      "Epoch 26\n",
      "12852/12852 [==============================] - 2s - loss: 29.5288     \n",
      "Epoch 27\n",
      "12852/12852 [==============================] - 2s - loss: 29.6628     \n",
      "Epoch 28\n",
      "12852/12852 [==============================] - 2s - loss: 29.5422     \n",
      "Epoch 29\n",
      "12852/12852 [==============================] - 2s - loss: 29.6389     \n"
     ]
    }
   ],
   "source": [
    "encoder = LabelEncoder()\n",
    "encoder.fit(y_train)\n",
    "y_train = encoder.transform(y_train).astype(np.int32)\n",
    "y_train = np_utils.to_categorical(y_train)\n",
    "\n",
    "nb_classes = y_train.shape[1]\n",
    "dims = X_train.shape[1]\n",
    "\n",
    "\n",
    "model = Sequential()\n",
    "model.add(Dense(dims, 128, init='uniform'))\n",
    "model.add(Activation(\"relu\"))\n",
    "model.add(Dropout(0.2))\n",
    "\n",
    "model.add(Dense(128, 128, init='uniform'))\n",
    "model.add(Activation(\"relu\"))\n",
    "model.add(Dropout(0.2))\n",
    "\n",
    "model.add(Dense(128, nb_classes, init='uniform'))\n",
    "model.add(Activation('softmax'))\n",
    "\n",
    "sgd = keras.optimizers.SGD(lr=0.1, momentum=0.9, nesterov=True)\n",
    "model.compile(loss='categorical_crossentropy', optimizer=sgd)\n",
    "\n",
    "print(\"Training model...\")\n",
    "\n",
    "model.fit(X_train, y_train, nb_epoch=30, batch_size=16, validation_split=0)"
   ]
  },
  {
   "cell_type": "code",
   "execution_count": 189,
   "metadata": {
    "collapsed": false
   },
   "outputs": [
    {
     "name": "stdout",
     "output_type": "stream",
     "text": [
      "2268/2268 [==============================] - 0s     \n"
     ]
    }
   ],
   "source": [
    "y_pred = model.predict_classes(X_test)"
   ]
  },
  {
   "cell_type": "code",
   "execution_count": 190,
   "metadata": {
    "collapsed": false
   },
   "outputs": [
    {
     "data": {
      "text/plain": [
       "0.8571428571428571"
      ]
     },
     "execution_count": 190,
     "metadata": {},
     "output_type": "execute_result"
    }
   ],
   "source": [
    "sum(y_test - 1 != y_pred) / (len(y_test) * 1.0)"
   ]
  },
  {
   "cell_type": "markdown",
   "metadata": {},
   "source": [
    "I maxedout at 0.85 error rate, very simil"
   ]
  }
 ],
 "metadata": {
  "kernelspec": {
   "display_name": "Python 2",
   "language": "python",
   "name": "python2"
  },
  "language_info": {
   "codemirror_mode": {
    "name": "ipython",
    "version": 2
   },
   "file_extension": ".py",
   "mimetype": "text/x-python",
   "name": "python",
   "nbconvert_exporter": "python",
   "pygments_lexer": "ipython2",
   "version": "2.7.9"
  }
 },
 "nbformat": 4,
 "nbformat_minor": 0
}
