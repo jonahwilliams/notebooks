{
 "cells": [
  {
   "cell_type": "markdown",
   "metadata": {},
   "source": [
    "<h1>Kernel Functions</h1>"
   ]
  },
  {
   "cell_type": "code",
   "execution_count": 2,
   "metadata": {
    "collapsed": true
   },
   "outputs": [],
   "source": [
    "from __future__ import division\n",
    "import numpy as np\n",
    "import pandas as pd\n",
    "import matplotlib.pyplot as plt\n",
    "import seaborn as sns\n",
    "\n",
    "%matplotlib inline"
   ]
  },
  {
   "cell_type": "markdown",
   "metadata": {},
   "source": [
    "The most commonly used kernel, the squared exponential kernel.  also known as the gaussian kernel or radial basis function.  Selects very smooth (sometimes too smooth) functions\n",
    "\n",
    "$$K(x, x') = \\sigma^2 exp{-\\frac{(x - x')^2}{2l^2}}$$"
   ]
  },
  {
   "cell_type": "code",
   "execution_count": 7,
   "metadata": {
    "collapsed": false
   },
   "outputs": [],
   "source": [
    "def squared_exponential(a, b, lengthscale=1, variance=1):\n",
    "    return variance * np.exp( (a - b)**2 - (0.5 / lengthscale**2))  \n",
    "\n",
    "def kernel(A, B):\n",
    "    kernel_matrix = np.zeros((len(A), len(B)))\n",
    "    for i in xrange(len(A)):\n",
    "        for j in xrange(len(B)):\n",
    "            kernel_matrix[i][j] = squared_exponential(A[i], B[j])\n",
    "    return kernel_matrix\n",
    "\n",
    "def GP(N, n, function, s=0.00005):\n",
    "\n",
    "    # Perform 2 inital evaulations of our function\n",
    "    X = np.random.uniform(-20, 20, size=(N,1))\n",
    "    y = function(X)\n",
    "    K = kernel(X, X)\n",
    "    L = np.linalg.cholesky(K + s*np.eye(N))\n",
    "\n",
    "    # points we're going to make predictions at.\n",
    "    Xtest = np.linspace(-20, 20, n).reshape(-1,1)\n",
    "\n",
    "    # compute the mean at our test points.\n",
    "    Lk = np.linalg.solve(L, kernel(X, Xtest))\n",
    "    mu = np.dot(Lk.T, np.linalg.solve(L, y))\n",
    "\n",
    "    # compute the variance at our test points.\n",
    "    K_ = kernel(Xtest, Xtest)\n",
    "    s2 = np.diag(K_) - np.sum(Lk**2, axis=0)\n",
    "    s = np.sqrt(s2)\n",
    "    \n",
    "    sns.set_style(\"darkgrid\")\n",
    "    plt.figure(figsize=(10, 10))\n",
    "    plt.plot(Xtest, mu-3*s, color=\"black\", alpha=0.7)\n",
    "    plt.plot(Xtest, mu+3*s, color=\"black\", alpha=0.7)\n",
    "    plt.scatter(X, y, s=40, color=\"red\", alpha=0.7)\n",
    "    plt.plot(Xtest, mu, '--', lw=2, color=\"black\", alpha=0.7)\n",
    "    plt.xlim(-20, 20)\n",
    "    plt.title(\"Mean Prediction $\\pm 3\\sigma$\")"
   ]
  },
  {
   "cell_type": "code",
   "execution_count": 8,
   "metadata": {
    "collapsed": false
   },
   "outputs": [
    {
     "ename": "NameError",
     "evalue": "global name 'score_svm' is not defined",
     "output_type": "error",
     "traceback": [
      "\u001b[0;31m---------------------------------------------------------------------------\u001b[0m",
      "\u001b[0;31mNameError\u001b[0m                                 Traceback (most recent call last)",
      "\u001b[0;32m<ipython-input-8-cc6cfd1119db>\u001b[0m in \u001b[0;36m<module>\u001b[0;34m()\u001b[0m\n\u001b[1;32m      1\u001b[0m \u001b[0mf\u001b[0m \u001b[0;34m=\u001b[0m \u001b[0;32mlambda\u001b[0m \u001b[0mx\u001b[0m\u001b[0;34m:\u001b[0m \u001b[0mx\u001b[0m\u001b[0;34m**\u001b[0m\u001b[0;36m3\u001b[0m \u001b[0;34m-\u001b[0m \u001b[0;36m2\u001b[0m\u001b[0;34m*\u001b[0m\u001b[0mx\u001b[0m\u001b[0;34m**\u001b[0m\u001b[0;36m2\u001b[0m \u001b[0;34m-\u001b[0m \u001b[0;36m1\u001b[0m\u001b[0;34m\u001b[0m\u001b[0m\n\u001b[0;32m----> 2\u001b[0;31m \u001b[0mGP\u001b[0m\u001b[0;34m(\u001b[0m\u001b[0;36m10\u001b[0m\u001b[0;34m,\u001b[0m \u001b[0;36m1000\u001b[0m\u001b[0;34m,\u001b[0m \u001b[0mf\u001b[0m\u001b[0;34m)\u001b[0m\u001b[0;34m\u001b[0m\u001b[0m\n\u001b[0m",
      "\u001b[0;32m<ipython-input-7-2b6d5b2ce78f>\u001b[0m in \u001b[0;36mGP\u001b[0;34m(N, n, function, s)\u001b[0m\n\u001b[1;32m     13\u001b[0m     \u001b[0;31m# Perform 2 inital evaulations of our function\u001b[0m\u001b[0;34m\u001b[0m\u001b[0;34m\u001b[0m\u001b[0m\n\u001b[1;32m     14\u001b[0m     \u001b[0mX\u001b[0m \u001b[0;34m=\u001b[0m \u001b[0mnp\u001b[0m\u001b[0;34m.\u001b[0m\u001b[0mrandom\u001b[0m\u001b[0;34m.\u001b[0m\u001b[0muniform\u001b[0m\u001b[0;34m(\u001b[0m\u001b[0;34m-\u001b[0m\u001b[0;36m20\u001b[0m\u001b[0;34m,\u001b[0m \u001b[0;36m20\u001b[0m\u001b[0;34m,\u001b[0m \u001b[0msize\u001b[0m\u001b[0;34m=\u001b[0m\u001b[0;34m(\u001b[0m\u001b[0mN\u001b[0m\u001b[0;34m,\u001b[0m\u001b[0;36m1\u001b[0m\u001b[0;34m)\u001b[0m\u001b[0;34m)\u001b[0m\u001b[0;34m\u001b[0m\u001b[0m\n\u001b[0;32m---> 15\u001b[0;31m     \u001b[0my_unnorm\u001b[0m \u001b[0;34m=\u001b[0m \u001b[0;34m[\u001b[0m\u001b[0mscore_svm\u001b[0m\u001b[0;34m(\u001b[0m\u001b[0mx\u001b[0m\u001b[0;34m)\u001b[0m \u001b[0;32mfor\u001b[0m \u001b[0mx\u001b[0m \u001b[0;32min\u001b[0m \u001b[0mX\u001b[0m\u001b[0;34m]\u001b[0m\u001b[0;34m\u001b[0m\u001b[0m\n\u001b[0m\u001b[1;32m     16\u001b[0m     \u001b[0my\u001b[0m \u001b[0;34m=\u001b[0m \u001b[0my_unnorm\u001b[0m \u001b[0;34m-\u001b[0m \u001b[0mnp\u001b[0m\u001b[0;34m.\u001b[0m\u001b[0mmean\u001b[0m\u001b[0;34m(\u001b[0m\u001b[0my_unnorm\u001b[0m\u001b[0;34m)\u001b[0m\u001b[0;34m\u001b[0m\u001b[0m\n\u001b[1;32m     17\u001b[0m     \u001b[0mK\u001b[0m \u001b[0;34m=\u001b[0m \u001b[0mkernel\u001b[0m\u001b[0;34m(\u001b[0m\u001b[0mX\u001b[0m\u001b[0;34m,\u001b[0m \u001b[0mX\u001b[0m\u001b[0;34m)\u001b[0m\u001b[0;34m\u001b[0m\u001b[0m\n",
      "\u001b[0;31mNameError\u001b[0m: global name 'score_svm' is not defined"
     ]
    }
   ],
   "source": [
    "f = lambda x: x**3 - 2*x**2 - 1\n",
    "GP(10, 1000, f)"
   ]
  },
  {
   "cell_type": "code",
   "execution_count": null,
   "metadata": {
    "collapsed": true
   },
   "outputs": [],
   "source": []
  }
 ],
 "metadata": {
  "kernelspec": {
   "display_name": "Python 2",
   "language": "python",
   "name": "python2"
  },
  "language_info": {
   "codemirror_mode": {
    "name": "ipython",
    "version": 2
   },
   "file_extension": ".py",
   "mimetype": "text/x-python",
   "name": "python",
   "nbconvert_exporter": "python",
   "pygments_lexer": "ipython2",
   "version": "2.7.9"
  }
 },
 "nbformat": 4,
 "nbformat_minor": 0
}
