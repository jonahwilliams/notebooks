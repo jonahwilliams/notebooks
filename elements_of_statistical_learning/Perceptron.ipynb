{
 "metadata": {
  "name": "",
  "signature": "sha256:558d2ca15b39c07de63bf77bcb63a5a031d9ae39cf29233e7014c26dace9f66c"
 },
 "nbformat": 3,
 "nbformat_minor": 0,
 "worksheets": [
  {
   "cells": [
    {
     "cell_type": "markdown",
     "metadata": {},
     "source": [
      "<h1>Perceptron Learning Algorithm</h1>\n",
      "The perceptron learning algorithm tries to find a separating hyperplane by minimizing the distnace of misclassified points to the decision boundary.  If a response $y_i = 1$ is misclassified, then $x^T_i\\beta + \\beta_ < 0$, and the opposite for a misclassified response with $y_i = -1$.  The goal is to minimize,\n",
      "\n",
      "$D(\\beta, \\beta_0) = - \\sum \\limits_{i \\in M} y_i(x^T_i \\beta + \\beta_0) $\n",
      "\n",
      "Where M indexes the set of misclassified points.  The quantity is non-negative and proportional to the distance of the misclassified points to the decision boundary defined by $\\beta^Tx + \\beta_0 = 0$.  The gradient is given by\n",
      "\n",
      "$\\partial \\frac{D(\\beta, \\beta_0)}{\\partial \\beta} = - \\sum y_i x_i$,\n",
      "\n",
      "$\\partial \\frac{D(\\beta, \\beta_0)}{\\partial \\beta_0} = - \\sum y_i$\n",
      "\n",
      "The algorithm uses stochastic gradient descent to minimize this piecewise linear criterion.  A step in the negative gradient direction is taken after each observation is visited.  Hence the misclassified points M are visited in some sequence, and the parameters $\\beta$ are updated via\n",
      "\n",
      "$\\beta_{t+1} = \\beta_{t} + p(y_ix_i)$\n",
      "\n",
      "<h3>Problems with the Perceptron</h3>\n",
      "When the data are separable, there are many solutions, and which one is found depends on the starting values.\n",
      "\n",
      "The finite number of steps can be very large; the smaller the gap, the longer the time to find it.  This can be partial solved by seeking a hyperplane not in the original space, but in a much enlarged space by creating many basis-function transformations of the original variables.\n",
      "\n",
      "When the data are not separable, the algorithm will not converge and cycles develop.  The cycles can be long and therefore hard to detect."
     ]
    },
    {
     "cell_type": "code",
     "collapsed": false,
     "input": [
      "import numpy as np\n",
      "import matplotlib.pyplot as plt\n",
      "%matplotlib inline"
     ],
     "language": "python",
     "metadata": {},
     "outputs": [],
     "prompt_number": 1
    },
    {
     "cell_type": "code",
     "collapsed": false,
     "input": [
      "data = [[np.random.normal(0, 1), np.random.normal(0, 1), 1] for i in range(10)] + \\\n",
      "       [[np.random.normal(3, 1), np.random.normal(3, 1), -1] for i in range(10)]"
     ],
     "language": "python",
     "metadata": {},
     "outputs": [],
     "prompt_number": 5
    },
    {
     "cell_type": "code",
     "collapsed": false,
     "input": [
      "colors ={-1:'red',1:'blue'}\n",
      "for d in data:\n",
      "    plt.scatter(d[0], d[1], color=colors[d[2]])\n",
      "plt.show()"
     ],
     "language": "python",
     "metadata": {},
     "outputs": [
      {
       "metadata": {},
       "output_type": "display_data",
       "png": "[encoded data removed]",
       "text": [
        "<matplotlib.figure.Figure at 0x1085a8410>"
       ]
      }
     ],
     "prompt_number": 7
    },
    {
     "cell_type": "code",
     "collapsed": false,
     "input": [
      "error = []\n",
      "from random import shuffle\n",
      "betas = np.random.normal(0, 0.01,(2, 1))\n",
      "bias = np.zeros(1)\n",
      "X = np.array([[a[0], a[1]] for a in data])\n",
      "y = np.array([a[2] for a in data])\n",
      "for i in xrange(1000):\n",
      "    misclassified = []\n",
      "    for i, (a, b) in enumerate(zip(np.sign(np.dot(X, betas) + bias), y)):\n",
      "        if a[0] != b:\n",
      "            misclassified.append([X[i].tolist(), y[i]])\n",
      "\n",
      "    shuffle(misclassified)\n",
      "    for point in misclassified:\n",
      "        betas[0] = betas[0] + (point[1] * point[0][0])\n",
      "        betas[1] = betas[1] + (point[1] * point[0][1])\n",
      "        bias = bias + point[0][0]\n",
      "    error.append(len(misclassified))\n",
      "    if (len(misclassified) == 0):\n",
      "        break\n",
      "    \n"
     ],
     "language": "python",
     "metadata": {},
     "outputs": [],
     "prompt_number": 85
    },
    {
     "cell_type": "code",
     "collapsed": false,
     "input": [
      "plt.plot(error)"
     ],
     "language": "python",
     "metadata": {},
     "outputs": [
      {
       "metadata": {},
       "output_type": "pyout",
       "prompt_number": 86,
       "text": [
        "[<matplotlib.lines.Line2D at 0x109869550>]"
       ]
      },
      {
       "metadata": {},
       "output_type": "display_data",
       "png": "[encoded data removed]",
       "text": [
        "<matplotlib.figure.Figure at 0x10950f750>"
       ]
      }
     ],
     "prompt_number": 86
    },
    {
     "cell_type": "code",
     "collapsed": false,
     "input": [
      "colors ={-1:'red',1:'blue'}\n",
      "for d in data:\n",
      "    plt.scatter(d[0], d[1], color=colors[d[2]])\n",
      "plt.plot([-1, 4], [(-1 * -betas[0] - bias)/betas[1], (4 * -betas[0] - bias)/betas[1]],\n",
      "        color=\"black\")\n",
      "plt.xlim(-1, 4)\n",
      "plt.show()"
     ],
     "language": "python",
     "metadata": {},
     "outputs": [
      {
       "metadata": {},
       "output_type": "display_data",
       "png": "[encoded data removed]",
       "text": [
        "<matplotlib.figure.Figure at 0x10978b910>"
       ]
      }
     ],
     "prompt_number": 87
    },
    {
     "cell_type": "code",
     "collapsed": false,
     "input": [],
     "language": "python",
     "metadata": {},
     "outputs": []
    }
   ],
   "metadata": {}
  }
 ]
}