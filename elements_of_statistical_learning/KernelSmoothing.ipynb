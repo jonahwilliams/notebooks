{
 "metadata": {
  "name": "",
  "signature": "sha256:8751a04acb2f5d4a84d9a18e10774c2830411a382b030f6cb3d5a5fa9e091e51"
 },
 "nbformat": 3,
 "nbformat_minor": 0,
 "worksheets": [
  {
   "cells": [
    {
     "cell_type": "markdown",
     "metadata": {},
     "source": [
      "</h1>Kernel Smoothing Methods</h1>\n",
      "<p>KSM are regression techniques that achieve flexibility in estimating the regression function by fitting a different but simple model separately at each query point.  This is done by using only those observations close to the target point to fit the simple model, and in such a way that the resulting estimated function is smooth in $R^p$.  This localization is achieved via a weighting function or kernel $K_{\\lambda}(x_0, x_i)$ which assigns a weight to $x_i$ based on its distance from $x_0$.  The kernels are indexed by a parameter $k_{\\lambda}$ that dicates the width of the nieghborhood.  These memory based methods required in principle little or no training, all work is done at evaluation time.  The only parameter that needs to be learned is $\\lambda$.  The model, however, is the entire training dataset.</p>"
     ]
    },
    {
     "cell_type": "code",
     "collapsed": false,
     "input": [],
     "language": "python",
     "metadata": {},
     "outputs": []
    }
   ],
   "metadata": {}
  }
 ]
}