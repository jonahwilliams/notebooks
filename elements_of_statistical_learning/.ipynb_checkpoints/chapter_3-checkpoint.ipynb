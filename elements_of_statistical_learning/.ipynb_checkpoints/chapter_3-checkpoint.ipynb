{
 "metadata": {
  "name": "",
  "signature": "sha256:e87581b6d0cba52684c8efff2de6e5740b95bb4640ddee2d59d4b1b914791707"
 },
 "nbformat": 3,
 "nbformat_minor": 0,
 "worksheets": []
}