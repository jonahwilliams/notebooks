{
 "metadata": {
  "name": "",
  "signature": "sha256:bd1f72acb78806d861df3e5f9eb3596a2037358da55ce606752e09d941dc8b70"
 },
 "nbformat": 3,
 "nbformat_minor": 0,
 "worksheets": [
  {
   "cells": [
    {
     "cell_type": "markdown",
     "metadata": {},
     "source": [
      "<h1>Linear Methods for Classification</h1>\n",
      "for an important class of procedures, the decision boundaries are linear - and there are many different ways that linear boudaries can be found.  Previously we fit a linear regression model to the class indicator variables and classified to the largest fit.\n",
      "\n",
      "<h3>Linear Regression of an Indicator Matrix</h3>\n",
      "Suppose there are $K$ classes which your predictor can belong to.  This can be encoded as an indicator matrix with rows of a single 1 - indicating the class of the response, and the rest zero.  We then perform a linear regression as normal and take the maximum argument of the response as the predicted class\n",
      "\n",
      "<h3>Linear Discriminant Analysis</h3>\n"
     ]
    },
    {
     "cell_type": "code",
     "collapsed": false,
     "input": [],
     "language": "python",
     "metadata": {},
     "outputs": []
    }
   ],
   "metadata": {}
  }
 ]
}