{
 "metadata": {
  "name": "",
  "signature": "sha256:847bb21f5ffb1a1c13567366654adfb4ca175fe72d32db074f5fc66fcc8482b0"
 },
 "nbformat": 3,
 "nbformat_minor": 0,
 "worksheets": [
  {
   "cells": [
    {
     "cell_type": "markdown",
     "metadata": {},
     "source": [
      "<h1>Linear Methods for Regression</h1>\n",
      "Linear models predict some target $Y_i = X^T\\beta$.  Some examples of X's include\n",
      "\n",
      "1. Quantitative Inputs\n",
      "2. Transofmations of quantitative inputs, such as logaritms or square roots\n",
      "3. Basis Expansions, $X_2 = X_1^2$ or $X_2 = cos(X_1)$\n",
      "4. Dummy variables of quantitative inputs\n",
      "5. Interaction Terms, $X_3 = X_1 * X_2$\n",
      "\n",
      "No matter the form of the inputs, the model is linear in the parameters.  As discussed in the previous chapter, the introductory method of fitting is least squares"
     ]
    },
    {
     "cell_type": "code",
     "collapsed": false,
     "input": [],
     "language": "python",
     "metadata": {},
     "outputs": []
    }
   ],
   "metadata": {}
  }
 ]
}