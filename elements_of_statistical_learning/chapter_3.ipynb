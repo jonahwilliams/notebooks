{
 "metadata": {
  "name": "",
  "signature": "sha256:df922a3563f76eb9654716ad736acf490e662d5c77042b88bee8cbc36b8dc7ee"
 },
 "nbformat": 3,
 "nbformat_minor": 0,
 "worksheets": [
  {
   "cells": [
    {
     "cell_type": "markdown",
     "metadata": {},
     "source": [
      "<h1>Linear Methods for Regression</h1>\n",
      "Linear models predict some target $Y_i = X^T\\beta$.  Some examples of X's include\n",
      "\n",
      "1. Quantitative Inputs\n",
      "2. Transofmations of quantitative inputs, such as logaritms or square roots\n",
      "3. Basis Expansions, $X_2 = X_1^2$ or $X_2 = cos(X_1)$\n",
      "4. Dummy variables of quantitative inputs\n",
      "5. Interaction Terms, $X_3 = X_1 * X_2$\n",
      "\n",
      "No matter the form of the inputs, the model is linear in the parameters.  As discussed in the previous chapter, the introductory method of fitting is least squares.\n",
      "\n",
      "Most of this section is a repeat of our linear models class, Im skipping ahead to regularization techniques"
     ]
    },
    {
     "cell_type": "code",
     "collapsed": false,
     "input": [
      "import pandas as pd\n",
      "import numpy as np\n",
      "import matplotlib.pyplot as plt\n",
      "import seaborn as sns\n",
      "from sklearn import linear_model\n",
      "%matplotlib inline"
     ],
     "language": "python",
     "metadata": {},
     "outputs": [],
     "prompt_number": 28
    },
    {
     "cell_type": "code",
     "collapsed": false,
     "input": [
      "prostate_data = pd.read_csv('http://statweb.stanford.edu/~tibs/ElemStatLearn/datasets/prostate.data', sep=\"\\t\")\n",
      "prostate_data = prostate_data.drop(['Unnamed: 0'], axis=1)\n",
      "prostate_data.head()"
     ],
     "language": "python",
     "metadata": {},
     "outputs": [
      {
       "html": [
        "<div style=\"max-height:1000px;max-width:1500px;overflow:auto;\">\n",
        "<table border=\"1\" class=\"dataframe\">\n",
        "  <thead>\n",
        "    <tr style=\"text-align: right;\">\n",
        "      <th></th>\n",
        "      <th>lcavol</th>\n",
        "      <th>lweight</th>\n",
        "      <th>age</th>\n",
        "      <th>lbph</th>\n",
        "      <th>svi</th>\n",
        "      <th>lcp</th>\n",
        "      <th>gleason</th>\n",
        "      <th>pgg45</th>\n",
        "      <th>lpsa</th>\n",
        "      <th>train</th>\n",
        "    </tr>\n",
        "  </thead>\n",
        "  <tbody>\n",
        "    <tr>\n",
        "      <th>0</th>\n",
        "      <td>-0.579818</td>\n",
        "      <td> 2.769459</td>\n",
        "      <td> 50</td>\n",
        "      <td>-1.386294</td>\n",
        "      <td> 0</td>\n",
        "      <td>-1.386294</td>\n",
        "      <td> 6</td>\n",
        "      <td>  0</td>\n",
        "      <td>-0.430783</td>\n",
        "      <td> T</td>\n",
        "    </tr>\n",
        "    <tr>\n",
        "      <th>1</th>\n",
        "      <td>-0.994252</td>\n",
        "      <td> 3.319626</td>\n",
        "      <td> 58</td>\n",
        "      <td>-1.386294</td>\n",
        "      <td> 0</td>\n",
        "      <td>-1.386294</td>\n",
        "      <td> 6</td>\n",
        "      <td>  0</td>\n",
        "      <td>-0.162519</td>\n",
        "      <td> T</td>\n",
        "    </tr>\n",
        "    <tr>\n",
        "      <th>2</th>\n",
        "      <td>-0.510826</td>\n",
        "      <td> 2.691243</td>\n",
        "      <td> 74</td>\n",
        "      <td>-1.386294</td>\n",
        "      <td> 0</td>\n",
        "      <td>-1.386294</td>\n",
        "      <td> 7</td>\n",
        "      <td> 20</td>\n",
        "      <td>-0.162519</td>\n",
        "      <td> T</td>\n",
        "    </tr>\n",
        "    <tr>\n",
        "      <th>3</th>\n",
        "      <td>-1.203973</td>\n",
        "      <td> 3.282789</td>\n",
        "      <td> 58</td>\n",
        "      <td>-1.386294</td>\n",
        "      <td> 0</td>\n",
        "      <td>-1.386294</td>\n",
        "      <td> 6</td>\n",
        "      <td>  0</td>\n",
        "      <td>-0.162519</td>\n",
        "      <td> T</td>\n",
        "    </tr>\n",
        "    <tr>\n",
        "      <th>4</th>\n",
        "      <td> 0.751416</td>\n",
        "      <td> 3.432373</td>\n",
        "      <td> 62</td>\n",
        "      <td>-1.386294</td>\n",
        "      <td> 0</td>\n",
        "      <td>-1.386294</td>\n",
        "      <td> 6</td>\n",
        "      <td>  0</td>\n",
        "      <td> 0.371564</td>\n",
        "      <td> T</td>\n",
        "    </tr>\n",
        "  </tbody>\n",
        "</table>\n",
        "</div>"
       ],
       "metadata": {},
       "output_type": "pyout",
       "prompt_number": 4,
       "text": [
        "     lcavol   lweight  age      lbph  svi       lcp  gleason  pgg45      lpsa  \\\n",
        "0 -0.579818  2.769459   50 -1.386294    0 -1.386294        6      0 -0.430783   \n",
        "1 -0.994252  3.319626   58 -1.386294    0 -1.386294        6      0 -0.162519   \n",
        "2 -0.510826  2.691243   74 -1.386294    0 -1.386294        7     20 -0.162519   \n",
        "3 -1.203973  3.282789   58 -1.386294    0 -1.386294        6      0 -0.162519   \n",
        "4  0.751416  3.432373   62 -1.386294    0 -1.386294        6      0  0.371564   \n",
        "\n",
        "  train  \n",
        "0     T  \n",
        "1     T  \n",
        "2     T  \n",
        "3     T  \n",
        "4     T  "
       ]
      }
     ],
     "prompt_number": 4
    },
    {
     "cell_type": "code",
     "collapsed": false,
     "input": [
      "training_data = prostate_data[prostate_data['train'] == 'T']\n",
      "testing_data = prostate_data[prostate_data['train'] == 'F']\n",
      "\n",
      "X = training_data.values[0::, 0:-2]\n",
      "y = training_data.values[0::, -2]\n",
      "y.shape = (len(y), 1)\n",
      "clf = linear_model.LinearRegression()\n",
      "clf.fit(X, y)"
     ],
     "language": "python",
     "metadata": {},
     "outputs": [
      {
       "metadata": {},
       "output_type": "pyout",
       "prompt_number": 63,
       "text": [
        "LinearRegression(copy_X=True, fit_intercept=True, normalize=False)"
       ]
      }
     ],
     "prompt_number": 63
    },
    {
     "cell_type": "code",
     "collapsed": false,
     "input": [
      "print(clf.intercept_, clf.coef_)"
     ],
     "language": "python",
     "metadata": {},
     "outputs": [
      {
       "output_type": "stream",
       "stream": "stdout",
       "text": [
        "[0.429170132849098] [[ 0.57654319  0.61402    -0.01900102  0.14484808  0.73720864 -0.20632423\n",
        "  -0.02950288  0.00946516]]\n"
       ]
      }
     ],
     "prompt_number": 64
    },
    {
     "cell_type": "code",
     "collapsed": false,
     "input": [
      "X = testing_data.values[0::, 0:-2]\n",
      "y = testing_data.values[0::, -2]\n",
      "y.shape = (len(y), 1)\n",
      "\n",
      "yhat = clf.predict(X)\n",
      "\n",
      "plt.plot(y, color=\"grey\")\n",
      "plt.plot(yhat)\n",
      "plt.title(\"Testing Data Accuracy\")\n",
      "plt.xlabel(\"Index\")\n",
      "plt.ylabel(\"lpsa\")"
     ],
     "language": "python",
     "metadata": {},
     "outputs": [
      {
       "metadata": {},
       "output_type": "pyout",
       "prompt_number": 67,
       "text": [
        "<matplotlib.text.Text at 0x7f57d06f5c18>"
       ]
      },
      {
       "metadata": {},
       "output_type": "display_data",
       "png": "[encoded data removed]",
       "text": [
        "<matplotlib.figure.Figure at 0x7f57d09fa9b0>"
       ]
      }
     ],
     "prompt_number": 67
    },
    {
     "cell_type": "code",
     "collapsed": false,
     "input": [
      "# Test Error\n",
      "np.mean(np.square(y - yhat))"
     ],
     "language": "python",
     "metadata": {},
     "outputs": [
      {
       "metadata": {},
       "output_type": "pyout",
       "prompt_number": 71,
       "text": [
        "0.5212740055076023"
       ]
      }
     ],
     "prompt_number": 71
    },
    {
     "cell_type": "markdown",
     "metadata": {},
     "source": [
      "<h1>Subset Selection</h1>\n",
      "There are two reasons why we are somtimes not satisfied with the least squares estimates.\n",
      "  1. The first is prediction accuracy, the least squares estiamtes often have low bias but high variance.  Prediction accuracy can sometimes be improved by shrinking or setting some coefficients to zero.  By doing this we sacrifice a bit of bias to reduce the variance of the predicted values\n",
      "  2.  The second reason is interpretation.  With a large number of predictors, we often would like to determine a smaller subset that exhibit the strongest effects.\n",
      "  \n",
      "Note: best subset selection is super outdated, I'm skipping ahead to regularization techniques\n",
      "\n",
      "<h2>Ridge Regression (L2 Regularization)</h2>\n",
      "Ridge regression shrinks the coefficiens by imposing a penalty (l2 norm) on their size\n",
      "\n",
      "$ \\hat{\\beta}_{ridge} = argmin_{\\beta}\\{\\sum \\limits_{i=1}^N(y_i - \\beta_0 - \\sum \\limits_{j=1}^Px_{i,j}\\beta_j)^2 + \\lambda \\sum \\limits_{j=1}^P \\beta^2_j  \\}$\n",
      "\n",
      "Here $\\lambda \\geq 0$ is a complexity parameter that controls the amount of shrink-age: The larger the value of $\\lambda$, the greater the amount of shrinkage.  The coefficients are shrunktoward zero, and each other.  When there are many correlated variables in a regression model their coefficients can become poorly determined and exhibit high variance.  A wildly positive coefficient on one variable can be canceled by a similarly large coefficient on another.  By imposing a size constraint on the coefficients, the problem is alleviated.  Note: unlike normal OLS, ridge coefficients are not equivalent under scaling, so one normally standardizes the inputs before solving\n",
      "\n",
      "$RSS(\\lambda) = (y - X\\beta)^T(y - X\\beta) + \\lambda\\beta^T\\beta$\n",
      "\n",
      "$\\hat{\\beta}_{ridge} = (X^TX + \\lambda I)^{-1}X^Ty$\n",
      "\n",
      "We essentially add a positive constant to the diagonal of $X^TX$ before inversion.  This makes the problem nonsingular, even if $X^TX$ is not of full column rank, and was the main motivation for ridge regrtession when it was first introduced.  Therefore it can solve $p > N$ problems as well."
     ]
    },
    {
     "cell_type": "code",
     "collapsed": false,
     "input": [
      "data = []\n",
      "X = training_data.values[0::, 0:-2] \n",
      "X = X - np.mean(X, axis=0)\n",
      "X = X / np.std(X, axis=0, dtype=np.float64)\n",
      "y = training_data.values[0::, -2]\n",
      "y = y - np.mean(y, axis=0)\n",
      "y = y / np.std(y, axis=0, dtype=np.float64)\n",
      "y.shape = (len(y), 1)\n",
      "for i in np.linspace(0, 100, 100):\n",
      "    clf = linear_model.Ridge(alpha=i, fit_intercept=False)\n",
      "    clf.fit(X, y)\n",
      "    coef = dict([(i, value) for i, value in enumerate(clf.coef_[0])])\n",
      "    coef['alpha'] = i\n",
      "    data.append(coef)\n",
      "ridge = pd.DataFrame(data)\n",
      "ridge.columns = [\"cavol\",\"lweight\",\"age\",\"lbph\",\"svi\",\"lcp\",\"gleason\",\"pgg45\",\"alpha\"]\n",
      "ridge.alpha = ridge.alpha.map(lambda x: 8**2/ (8**2 + x))\n",
      "plotting_data = pd.melt(ridge, id_vars=\"alpha\")"
     ],
     "language": "python",
     "metadata": {},
     "outputs": [],
     "prompt_number": 153
    },
    {
     "cell_type": "code",
     "collapsed": false,
     "input": [
      "g = sns.lmplot(\"alpha\",\"value\", hue=\"variable\", data=plotting_data, fit_reg=False)\n",
      "plt.xlabel(\"df($\\lambda$)\")\n",
      "plt.xlim(0.35, 1)\n",
      "plt.show(g)"
     ],
     "language": "python",
     "metadata": {},
     "outputs": [
      {
       "metadata": {},
       "output_type": "display_data",
       "png": "[encoded data removed]",
       "text": [
        "<matplotlib.figure.Figure at 0x7f57cfe1c6d8>"
       ]
      }
     ],
     "prompt_number": 155
    },
    {
     "cell_type": "markdown",
     "metadata": {},
     "source": [
      "The singular Value Decomposition (SVD) of the centered input matrix X can give us some additionaly insight into the nature of ridge regression.  The SVD of an $N x p$ matrix has the form\n",
      "\n",
      "$X = UDV^T$\n",
      "\n",
      "Here U and V are $N x p$ and $p x p$ orthagonal matricies, with the columns of U spanning the column space of X, and the columns of V spanning the row space.  D is a $p x p$ diagonal matrix, with diagonal entries $d_1 \\geq d_2 \\geq ... \\geq d_p \\geq 0$ called the singular values of X.  If one or more value $d_j = 0$, X is singular.\n",
      "\n",
      "Using the singular value decomposition, we can write the least squares fitted vector as\n",
      "\n",
      "$X\\hat{\\beta}^{ls} = X(X^TX)^{-1}X^Ty$\n",
      "\n",
      "$X\\hat{\\beta}^{ls} = UU^Ty$\n",
      "\n",
      "after some siplification.  Note that $U^Ty$ are the coordinates of y with respect to the orthonormal basis U$  Now the ridge solutions are\n",
      "\n",
      "$X\\hat{\\beta}^{ridge} = X(X^TX + \\lambda I)^{-1} X^Ty$\n",
      "\n",
      "$= U D(D^2 + \\lambda I)^{-1}DU^T y$\n",
      "\n",
      "$= \\sum \\limits_{j=1}^P u_j \\frac{d^2_j}{d^2_j +\\lambda} u^T_jy$\n",
      "\n",
      "Like linear regression, ridge regression computes the coordinates of y with respect to the orthonormal basis U.  it then shrinks these coordinates by the factors $\\frac{d_j^2}{d_j^2 + \\lambda}$.  This means that a greater amount of shrinkage is applied to the coordinates of basis vectors with smaller $d^2_j$.\n"
     ]
    },
    {
     "cell_type": "markdown",
     "metadata": {},
     "source": [
      "What does a small value of $d^2_j$ mean?  The SVD of the centered matrix X is another way of expressing the principal components of the variables in X.  The sample covariance matrix is given by \n",
      "\n",
      "$S = X^TX/N$\n",
      "\n",
      "and from above we have\n",
      "\n",
      "$X^TX = VD^2V^T$\n",
      "\n",
      "Which is the eigen decomposition of $X^TX$ (and of S, up to a factor of N).  The eigen vecotrs are also called the principal components directions of X.  The first principal component direction $v_1$ has the proverty that $z_1 = Xv_1$ has the largest sample variance among all normalized linear combinations of the columns of X.  subsequent components $z_j$ have maximum variance $d^2_j/N$, subject to being orthogonal to the earlier ones.  Conversly the last principal component has minimum variance.  Hence the small singular values correspond to directions in the column space of X having small variance, and ridge regression shrinks these directions the most.\n",
      "\n",
      "<h3>The implicit assumption is that the response will tend to vary most in the directions of high variance of the inputs. This is often a reasonable assumption, since predictors are often chosen for study because they vary with the response variable"
     ]
    },
    {
     "cell_type": "markdown",
     "metadata": {},
     "source": [
      "<h2>Lasso Regression (L1 Regularization)</h2>\n",
      "The lasso is a shrinkage method like ridge, with subtle but important differences.  The lasso esimate is defined by\n",
      "\n",
      "$\\hat{\\beta}_{lasso} = argmin_{\\beta}\\{\\frac{1}{2}\\sum \\limits_{i=1}^N(y_i - \\beta_0 - \\sum \\limits_{j=1}^P x_{i,j}\\beta_j )^2  + \\lambda \\sum \\limits_{j=1}^P |\\beta_j|\\}$\n",
      "\n",
      "Just as in ridge regression, we can re-parameterize the constant $\\beta_0$ by standardizing the predictors; the solution for $\\beta_0$ is $\\bar{y}$, and thereafter we fit a model without an intercept.  In the signal processing literature, the lasso is known as basis pursuit.  The use of the l1 norm makes the solutions nonlinear in the $y_i$, and there is no closed for expression as in ridge regression.  Computing the lasso solution is a quadradic programming problem, though extremely efficient algorithms exist"
     ]
    },
    {
     "cell_type": "code",
     "collapsed": false,
     "input": [],
     "language": "python",
     "metadata": {},
     "outputs": []
    }
   ],
   "metadata": {}
  }
 ]
}