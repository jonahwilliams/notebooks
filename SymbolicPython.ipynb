{
 "metadata": {
  "name": "",
  "signature": "sha256:31d3899873384cadc1fd3f08f56bffd55e5c105ccb9e98ccd60bde003bc250f0"
 },
 "nbformat": 3,
 "nbformat_minor": 0,
 "worksheets": [
  {
   "cells": [
    {
     "cell_type": "markdown",
     "metadata": {},
     "source": [
      "<h1>Exploring Symbolic Python</h1>\n",
      "<p>If you're like me, you've probably found that there can be a disconect when translating the mathematics learned in school with algorithms implemented in programming languages.  For example, on paper find the derivative of $3x^2 + 2$ is nearly trivial, while trying to do so from scratch in python is much more involved.  Consider also simplifying $\\sqrt{12}$, where a human would represent it as $2\\sqrt{3}$, a computer will give a much uglier approximation.  In order to bridge the gap, computer algebra systems evaluate expressions symbolically, in the same way a human would.  Python's CAS SymPy not only allows us to solve mathematical expressions symbolically, but to then incorporate the solutions into code with ease</p>"
     ]
    },
    {
     "cell_type": "code",
     "collapsed": false,
     "input": [
      "from sympy import *\n",
      "from __future__ import division\n",
      "init_printing(use_unicode=True)"
     ],
     "language": "python",
     "metadata": {},
     "outputs": [],
     "prompt_number": 1
    },
    {
     "cell_type": "markdown",
     "metadata": {},
     "source": [
      "The basic SymPy object is a symbol, and is intialized with either `Symbol` or `symbols()`, taking a string representing its name."
     ]
    },
    {
     "cell_type": "code",
     "collapsed": false,
     "input": [
      "x = Symbol('x')\n",
      "type(x)"
     ],
     "language": "python",
     "metadata": {},
     "outputs": [
      {
       "metadata": {},
       "output_type": "pyout",
       "prompt_number": 52,
       "text": [
        "sympy.core.symbol.Symbol"
       ]
      }
     ],
     "prompt_number": 52
    },
    {
     "cell_type": "markdown",
     "metadata": {},
     "source": [
      "Note that the name of the symbol object and the variable holding it need not be related."
     ]
    },
    {
     "cell_type": "code",
     "collapsed": false,
     "input": [
      "y = Symbol('z')\n",
      "y"
     ],
     "language": "python",
     "metadata": {},
     "outputs": [
      {
       "latex": [
        "$$z$$"
       ],
       "metadata": {},
       "output_type": "pyout",
       "png": "[encoded data removed]",
       "prompt_number": 53,
       "text": [
        "z"
       ]
      }
     ],
     "prompt_number": 53
    },
    {
     "cell_type": "markdown",
     "metadata": {},
     "source": [
      "Symbols can then be combined with normal python syntax to form an expression.  expressions are composed of nested objects, including multiplication ( `Mul()`), addition (`Add()`), power ( `Pow()`), but not subtraction or divison.  For example, the expression $x - y$ would be represented as `Add(x, Mul(-1, y))`."
     ]
    },
    {
     "cell_type": "code",
     "collapsed": false,
     "input": [
      "x, y, z = symbols('x, y, z')\n",
      "expression = 2*x + y**2 + z/2\n",
      "expression"
     ],
     "language": "python",
     "metadata": {},
     "outputs": [
      {
       "latex": [
        "$$2 x + y^{2} + \\frac{z}{2}$$"
       ],
       "metadata": {},
       "output_type": "pyout",
       "png": "[encoded data removed]",
       "prompt_number": 260,
       "text": [
        "       2   z\n",
        "2\u22c5x + y  + \u2500\n",
        "           2"
       ]
      }
     ],
     "prompt_number": 260
    },
    {
     "cell_type": "code",
     "collapsed": false,
     "input": [
      "srepr(expression)"
     ],
     "language": "python",
     "metadata": {},
     "outputs": [
      {
       "metadata": {},
       "output_type": "pyout",
       "prompt_number": 261,
       "text": [
        "\"Add(Mul(Integer(2), Symbol('x')), Pow(Symbol('y'), Integer(2)), Mul(Rational(1, 2), Symbol('z')))\""
       ]
      }
     ],
     "prompt_number": 261
    },
    {
     "cell_type": "markdown",
     "metadata": {},
     "source": [
      "Expressions can also be composed of sympy functions and numbers.  Here we can see that sympy simplifies the square root in the same manner a human would."
     ]
    },
    {
     "cell_type": "code",
     "collapsed": false,
     "input": [
      "expression = sqrt(12)\n",
      "expression"
     ],
     "language": "python",
     "metadata": {},
     "outputs": [
      {
       "latex": [
        "$$2 \\sqrt{3}$$"
       ],
       "metadata": {},
       "output_type": "pyout",
       "png": "[encoded data removed]",
       "prompt_number": 257,
       "text": [
        "    ___\n",
        "2\u22c5\u2572\u2571 3 "
       ]
      }
     ],
     "prompt_number": 257
    },
    {
     "cell_type": "code",
     "collapsed": false,
     "input": [
      "srepr(expression)"
     ],
     "language": "python",
     "metadata": {},
     "outputs": [
      {
       "metadata": {},
       "output_type": "pyout",
       "prompt_number": 259,
       "text": [
        "'Mul(Integer(2), Pow(Integer(3), Rational(1, 2)))'"
       ]
      }
     ],
     "prompt_number": 259
    },
    {
     "cell_type": "markdown",
     "metadata": {},
     "source": [
      "The expression is evaluated in the following way:\n",
      "\n",
      "`1 : Pow(12, Rational(1, 2))`\n",
      "\n",
      "`2 : Pow(Mul(4, 3), Rational(1, 2))`\n",
      "\n",
      "`3 : Mul(Pow(4, Rational(1, 2)), Pow(3, Rational(1, 2)))`\n",
      "\n",
      "`4 : Mul(2, Pow(3, Rational(1, 2)))`"
     ]
    },
    {
     "cell_type": "markdown",
     "metadata": {},
     "source": [
      " Sympy can also provide numerical solutions, either using `evalf()` on expressions above or `subs(variable ,value)` to substitute into an equation.  Multiple substitution can be done by passing a list of the form [(variable, value)]"
     ]
    },
    {
     "cell_type": "code",
     "collapsed": false,
     "input": [
      "expression.evalf(100)"
     ],
     "language": "python",
     "metadata": {},
     "outputs": [
      {
       "latex": [
        "$$3.464101615137754587054892683011744733885610507620761256111613958903866033817600074162292373514497151$$"
       ],
       "metadata": {},
       "output_type": "pyout",
       "png": "[encoded data removed]",
       "prompt_number": 56,
       "text": [
        "3.4641016151377545870548926830117447338856105076207612561116139589038660338176\n",
        "00074162292373514497151"
       ]
      }
     ],
     "prompt_number": 56
    },
    {
     "cell_type": "code",
     "collapsed": false,
     "input": [
      "expression = 2*x + x**2\n",
      "expression.subs(x, 2)"
     ],
     "language": "python",
     "metadata": {},
     "outputs": [
      {
       "latex": [
        "$$8$$"
       ],
       "metadata": {},
       "output_type": "pyout",
       "png": "[encoded data removed]",
       "prompt_number": 57,
       "text": [
        "8"
       ]
      }
     ],
     "prompt_number": 57
    },
    {
     "cell_type": "code",
     "collapsed": false,
     "input": [
      "expression = 2*x + 4*y + 1\n",
      "expression.subs([(x, 1),(y, 4)])"
     ],
     "language": "python",
     "metadata": {},
     "outputs": [
      {
       "latex": [
        "$$19$$"
       ],
       "metadata": {},
       "output_type": "pyout",
       "png": "[encoded data removed]",
       "prompt_number": 58,
       "text": [
        "19"
       ]
      }
     ],
     "prompt_number": 58
    },
    {
     "cell_type": "markdown",
     "metadata": {},
     "source": [
      "Expressions are immutable, so expression methods return a new expression instead of modifying the old in place.  Additionally this means they can be used as keys to a dictionary."
     ]
    },
    {
     "cell_type": "code",
     "collapsed": false,
     "input": [
      "expression"
     ],
     "language": "python",
     "metadata": {},
     "outputs": [
      {
       "latex": [
        "$$2 x + 4 y + 1$$"
       ],
       "metadata": {},
       "output_type": "pyout",
       "png": "[encoded data removed]",
       "prompt_number": 59,
       "text": [
        "2\u22c5x + 4\u22c5y + 1"
       ]
      }
     ],
     "prompt_number": 59
    },
    {
     "cell_type": "markdown",
     "metadata": {},
     "source": [
      "SymPy can easily be utilized in larger python projects.  For instance, strings can be read into expressions and symbols using the function `sympify()` and sympify expressions can be converted to other namespaces (such as numpy) using `lambdify`."
     ]
    },
    {
     "cell_type": "code",
     "collapsed": false,
     "input": [
      "string = \"x**2 + 2*x + 1\"\n",
      "expression = sympify(string)\n",
      "expression, type(expression)"
     ],
     "language": "python",
     "metadata": {},
     "outputs": [
      {
       "metadata": {},
       "output_type": "pyout",
       "prompt_number": 60,
       "text": [
        "(x**2 + 2*x + 1, sympy.core.add.Add)"
       ]
      }
     ],
     "prompt_number": 60
    },
    {
     "cell_type": "code",
     "collapsed": false,
     "input": [
      "import numpy\n",
      "expression = x**2 + 2*x + sin(2*x) + 1\n",
      "expression"
     ],
     "language": "python",
     "metadata": {},
     "outputs": [
      {
       "latex": [
        "$$x^{2} + 2 x + \\sin{\\left (2 x \\right )} + 1$$"
       ],
       "metadata": {},
       "output_type": "pyout",
       "png": "[encoded data removed]",
       "prompt_number": 61,
       "text": [
        " 2                     \n",
        "x  + 2\u22c5x + sin(2\u22c5x) + 1"
       ]
      }
     ],
     "prompt_number": 61
    },
    {
     "cell_type": "code",
     "collapsed": false,
     "input": [
      "f = lambdify(x, expression, \"numpy\")\n",
      "f"
     ],
     "language": "python",
     "metadata": {},
     "outputs": [
      {
       "metadata": {},
       "output_type": "pyout",
       "prompt_number": 62,
       "text": [
        "<function numpy.<lambda>>"
       ]
      }
     ],
     "prompt_number": 62
    },
    {
     "cell_type": "code",
     "collapsed": false,
     "input": [
      "f(2)"
     ],
     "language": "python",
     "metadata": {},
     "outputs": [
      {
       "latex": [
        "$$8.24319750469$$"
       ],
       "metadata": {},
       "output_type": "pyout",
       "png": "[encoded data removed]",
       "prompt_number": 63,
       "text": [
        "8.24319750469"
       ]
      }
     ],
     "prompt_number": 63
    },
    {
     "cell_type": "markdown",
     "metadata": {},
     "source": [
      "<h2>Plotting Functions</h2>\n",
      "Using lambdify, numpy, and matplotlib you can easily plot functions from SymPy expressions."
     ]
    },
    {
     "cell_type": "code",
     "collapsed": false,
     "input": [
      "import matplotlib.pyplot as plt\n",
      "import numpy\n",
      "%matplotlib inline"
     ],
     "language": "python",
     "metadata": {},
     "outputs": [],
     "prompt_number": 37
    },
    {
     "cell_type": "markdown",
     "metadata": {},
     "source": [
      "For instance, below we plot an expression and its derivative.  First define the functions in SymPy, then use lambdify to translate them into NumPy."
     ]
    },
    {
     "cell_type": "code",
     "collapsed": false,
     "input": [
      "x = symbols('x')\n",
      "expression = x**2 + 1\n",
      "derivative = expression.diff(x)\n",
      "f = lambdify(x, expression, \"numpy\")\n",
      "df = lambdify(x, derivative, \"numpy\")"
     ],
     "language": "python",
     "metadata": {},
     "outputs": [],
     "prompt_number": 48
    },
    {
     "cell_type": "markdown",
     "metadata": {},
     "source": [
      "Then specify a domain with the numpy function `numpy.linspace(min, max, steps)`.  You can now specify the x and y arguments in the `plot()` function with `domain, map(function, domain)`."
     ]
    },
    {
     "cell_type": "code",
     "collapsed": false,
     "input": [
      "domain = numpy.linspace(-10, 10, 100)\n",
      "plt.plot(domain, map(f, domain))\n",
      "plt.plot(domain, map(df, domain))\n",
      "plt.show()"
     ],
     "language": "python",
     "metadata": {},
     "outputs": [
      {
       "metadata": {},
       "output_type": "display_data",
       "png": "[encoded data removed]",
       "text": [
        "<matplotlib.figure.Figure at 0xb92a978>"
       ]
      }
     ],
     "prompt_number": 51
    },
    {
     "cell_type": "code",
     "collapsed": false,
     "input": [],
     "language": "python",
     "metadata": {},
     "outputs": [],
     "prompt_number": 52
    },
    {
     "cell_type": "markdown",
     "metadata": {},
     "source": [
      "<h1>Simplification</h1>\n",
      "Sympy has several different methods for simplifying expressions, varying in degree of specificity.  The most general simplification method is `simplify()`.  It applies to any sort of expression, but it is not guaranteed to give the simpliest answer.  If a more specific simplification method is known, it should be used instead."
     ]
    },
    {
     "cell_type": "code",
     "collapsed": false,
     "input": [
      "expression = x**2 + 2*x + 1\n",
      "expression"
     ],
     "language": "python",
     "metadata": {},
     "outputs": [
      {
       "latex": [
        "$$x^{2} + 2 x + 1$$"
       ],
       "metadata": {},
       "output_type": "pyout",
       "png": "[encoded data removed]",
       "prompt_number": 98,
       "text": [
        " 2          \n",
        "x  + 2\u22c5x + 1"
       ]
      }
     ],
     "prompt_number": 98
    },
    {
     "cell_type": "code",
     "collapsed": false,
     "input": [
      "expression.simplify()"
     ],
     "language": "python",
     "metadata": {},
     "outputs": [
      {
       "latex": [
        "$$x^{2} + 2 x + 1$$"
       ],
       "metadata": {},
       "output_type": "pyout",
       "png": "[encoded data removed]",
       "prompt_number": 99,
       "text": [
        " 2          \n",
        "x  + 2\u22c5x + 1"
       ]
      }
     ],
     "prompt_number": 99
    },
    {
     "cell_type": "markdown",
     "metadata": {},
     "source": [
      "`factor` takes a polynomial expression and factors it into irreducible factors over the rational numbers"
     ]
    },
    {
     "cell_type": "code",
     "collapsed": false,
     "input": [
      "expression.factor()"
     ],
     "language": "python",
     "metadata": {},
     "outputs": [
      {
       "latex": [
        "$$\\left(x + 1\\right)^{2}$$"
       ],
       "metadata": {},
       "output_type": "pyout",
       "png": "[encoded data removed]",
       "prompt_number": 100,
       "text": [
        "       2\n",
        "(x + 1) "
       ]
      }
     ],
     "prompt_number": 100
    },
    {
     "cell_type": "markdown",
     "metadata": {},
     "source": [
      "`expand` takes a polynomial expression and expands it"
     ]
    },
    {
     "cell_type": "code",
     "collapsed": false,
     "input": [
      "expression = (x + 1)**2\n",
      "expression"
     ],
     "language": "python",
     "metadata": {},
     "outputs": [
      {
       "latex": [
        "$$\\left(x + 1\\right)^{2}$$"
       ],
       "metadata": {},
       "output_type": "pyout",
       "png": "[encoded data removed]",
       "prompt_number": 101,
       "text": [
        "       2\n",
        "(x + 1) "
       ]
      }
     ],
     "prompt_number": 101
    },
    {
     "cell_type": "code",
     "collapsed": false,
     "input": [
      "expression.expand()"
     ],
     "language": "python",
     "metadata": {},
     "outputs": [
      {
       "latex": [
        "$$x^{2} + 2 x + 1$$"
       ],
       "metadata": {},
       "output_type": "pyout",
       "png": "[encoded data removed]",
       "prompt_number": 102,
       "text": [
        " 2          \n",
        "x  + 2\u22c5x + 1"
       ]
      }
     ],
     "prompt_number": 102
    },
    {
     "cell_type": "markdown",
     "metadata": {},
     "source": [
      "`collect` collects common powers of a symbol in an expression."
     ]
    },
    {
     "cell_type": "code",
     "collapsed": false,
     "input": [
      "expression = 2*z*x**2 + y*x**3 + x**2\n",
      "expression"
     ],
     "language": "python",
     "metadata": {},
     "outputs": [
      {
       "latex": [
        "$$x^{3} y + 2 x^{2} z + x^{2}$$"
       ],
       "metadata": {},
       "output_type": "pyout",
       "png": "[encoded data removed]",
       "prompt_number": 103,
       "text": [
        " 3        2      2\n",
        "x \u22c5y + 2\u22c5x \u22c5z + x "
       ]
      }
     ],
     "prompt_number": 103
    },
    {
     "cell_type": "code",
     "collapsed": false,
     "input": [
      "expression.collect(x)"
     ],
     "language": "python",
     "metadata": {},
     "outputs": [
      {
       "latex": [
        "$$x^{3} y + x^{2} \\left(2 z + 1\\right)$$"
       ],
       "metadata": {},
       "output_type": "pyout",
       "png": "[encoded data removed]",
       "prompt_number": 104,
       "text": [
        " 3      2          \n",
        "x \u22c5y + x \u22c5(2\u22c5z + 1)"
       ]
      }
     ],
     "prompt_number": 104
    },
    {
     "cell_type": "markdown",
     "metadata": {},
     "source": [
      "`cancel` takes a rational function and puts it into standard canonical form $\\frac{p}{q}$"
     ]
    },
    {
     "cell_type": "code",
     "collapsed": false,
     "input": [
      "expression = (x**3 + 2*x)/( x**2 + x)\n",
      "expression"
     ],
     "language": "python",
     "metadata": {},
     "outputs": [
      {
       "latex": [
        "$$\\frac{x^{3} + 2 x}{x^{2} + x}$$"
       ],
       "metadata": {},
       "output_type": "pyout",
       "png": "[encoded data removed]",
       "prompt_number": 105,
       "text": [
        " 3      \n",
        "x  + 2\u22c5x\n",
        "\u2500\u2500\u2500\u2500\u2500\u2500\u2500\u2500\n",
        "  2     \n",
        " x  + x "
       ]
      }
     ],
     "prompt_number": 105
    },
    {
     "cell_type": "code",
     "collapsed": false,
     "input": [
      "expression.cancel()"
     ],
     "language": "python",
     "metadata": {},
     "outputs": [
      {
       "latex": [
        "$$\\frac{x^{2} + 2}{x + 1}$$"
       ],
       "metadata": {},
       "output_type": "pyout",
       "png": "[encoded data removed]",
       "prompt_number": 106,
       "text": [
        " 2    \n",
        "x  + 2\n",
        "\u2500\u2500\u2500\u2500\u2500\u2500\n",
        "x + 1 "
       ]
      }
     ],
     "prompt_number": 106
    },
    {
     "cell_type": "markdown",
     "metadata": {},
     "source": [
      "`apart` performs a partial fraction decomposition on a rational function"
     ]
    },
    {
     "cell_type": "code",
     "collapsed": false,
     "input": [
      "expression = (x**5 + 4 * x**3 + 12 * x**2 + x + 4) / (x**3 + 2 * x**2 + 9 * x + 2)\n",
      "expression"
     ],
     "language": "python",
     "metadata": {},
     "outputs": [
      {
       "latex": [
        "$$\\frac{x^{5} + 4 x^{3} + 12 x^{2} + x + 4}{x^{3} + 2 x^{2} + 9 x + 2}$$"
       ],
       "metadata": {},
       "output_type": "pyout",
       "png": "[encoded data removed]",
       "prompt_number": 107,
       "text": [
        " 5      3       2        \n",
        "x  + 4\u22c5x  + 12\u22c5x  + x + 4\n",
        "\u2500\u2500\u2500\u2500\u2500\u2500\u2500\u2500\u2500\u2500\u2500\u2500\u2500\u2500\u2500\u2500\u2500\u2500\u2500\u2500\u2500\u2500\u2500\u2500\u2500\n",
        "    3      2             \n",
        "   x  + 2\u22c5x  + 9\u22c5x + 2   "
       ]
      }
     ],
     "prompt_number": 107
    },
    {
     "cell_type": "code",
     "collapsed": false,
     "input": [
      "expression.apart()"
     ],
     "language": "python",
     "metadata": {},
     "outputs": [
      {
       "latex": [
        "$$x^{2} - 2 x + \\frac{30 x^{2} + 14 x + 6}{x^{3} + 2 x^{2} + 9 x + 2} - 1$$"
       ],
       "metadata": {},
       "output_type": "pyout",
       "png": "[encoded data removed]",
       "prompt_number": 108,
       "text": [
        "             \u239b    2          \u239e    \n",
        " 2         2\u22c5\u239d15\u22c5x  + 7\u22c5x + 3\u23a0    \n",
        "x  - 2\u22c5x + \u2500\u2500\u2500\u2500\u2500\u2500\u2500\u2500\u2500\u2500\u2500\u2500\u2500\u2500\u2500\u2500\u2500\u2500\u2500 - 1\n",
        "            3      2              \n",
        "           x  + 2\u22c5x  + 9\u22c5x + 2    "
       ]
      }
     ],
     "prompt_number": 108
    },
    {
     "cell_type": "markdown",
     "metadata": {},
     "source": [
      "<h2>Solvers</h2>\n",
      "SymPy doesn't expand python syntax, so equality is denoted with `Eq(x, y)` rather than `=` or `==`.  Expressions that are not part of `Eq()` are assumed to be equal to 0, which can be used to shorthand $x - y$ for $x = y$ without using `Eq()`."
     ]
    },
    {
     "cell_type": "code",
     "collapsed": false,
     "input": [
      "x, y = symbols('x y')\n",
      "expression = Eq(x, y)\n",
      "expression"
     ],
     "language": "python",
     "metadata": {},
     "outputs": [
      {
       "latex": [
        "$$x = y$$"
       ],
       "metadata": {},
       "output_type": "pyout",
       "png": "[encoded data removed]",
       "prompt_number": 214,
       "text": [
        "x = y"
       ]
      }
     ],
     "prompt_number": 214
    },
    {
     "cell_type": "markdown",
     "metadata": {},
     "source": [
      "Solving algebraic expressions is done via the `solve(expression, symbol)` function (not a method of expressions).  This function returns a list of solutions, an empty list, or NotImplementedError (if it could not find any symbolically)"
     ]
    },
    {
     "cell_type": "code",
     "collapsed": false,
     "input": [
      "expression = Eq(x**2, x)\n",
      "solve(expression, x)"
     ],
     "language": "python",
     "metadata": {},
     "outputs": [
      {
       "latex": [
        "$$\\begin{bmatrix}0, & 1\\end{bmatrix}$$"
       ],
       "metadata": {},
       "output_type": "pyout",
       "png": "[encoded data removed]",
       "prompt_number": 217,
       "text": [
        "[0, 1]"
       ]
      }
     ],
     "prompt_number": 217
    },
    {
     "cell_type": "code",
     "collapsed": false,
     "input": [
      "expression = x**2 - x\n",
      "solve(expression, x)"
     ],
     "language": "python",
     "metadata": {},
     "outputs": [
      {
       "latex": [
        "$$\\begin{bmatrix}0, & 1\\end{bmatrix}$$"
       ],
       "metadata": {},
       "output_type": "pyout",
       "png": "[encoded data removed]",
       "prompt_number": 218,
       "text": [
        "[0, 1]"
       ]
      }
     ],
     "prompt_number": 218
    },
    {
     "cell_type": "code",
     "collapsed": false,
     "input": [
      "expression = x**2 + 1\n",
      "solve(expression, x)"
     ],
     "language": "python",
     "metadata": {},
     "outputs": [
      {
       "latex": [
        "$$\\begin{bmatrix}- i, & i\\end{bmatrix}$$"
       ],
       "metadata": {},
       "output_type": "pyout",
       "png": "[encoded data removed]",
       "prompt_number": 227,
       "text": [
        "[-\u2148, \u2148]"
       ]
      }
     ],
     "prompt_number": 227
    },
    {
     "cell_type": "markdown",
     "metadata": {},
     "source": [
      "solve can also be passed a system of equations and list of variables, in the form `solve([f, g, h],[x, y, z])`"
     ]
    },
    {
     "cell_type": "code",
     "collapsed": false,
     "input": [
      "f = x + 2*y - z\n",
      "g = 2 * x + 2 * y\n",
      "h = -1*x + 5*y + 3*z\n",
      "solve([f, g, h],[x, y, z])"
     ],
     "language": "python",
     "metadata": {},
     "outputs": [
      {
       "latex": [
        "$$\\begin{Bmatrix}x : 0, & y : 0, & z : 0\\end{Bmatrix}$$"
       ],
       "metadata": {},
       "output_type": "pyout",
       "png": "[encoded data removed]",
       "prompt_number": 225,
       "text": [
        "{x: 0, y: 0, z: 0}"
       ]
      }
     ],
     "prompt_number": 225
    },
    {
     "cell_type": "markdown",
     "metadata": {},
     "source": [
      "<h1>Calculus</h1>\n",
      "integrals and derivatives can easily be calcualted either numerically or analytically using SymPy; either through the `itegrate()` and `diff()` methods of an expression or by directly creating an unevlated integral or derivative using the `Integral()` and `Derivative()` constructor.\n",
      "<h2>Derivatives</h2>\n",
      "The `diff` method deterimes how to take the derivative by the order of arguments passed to: valud examples include the variable and degree, or just by repeating the variable(s).  order of differentiation is implied."
     ]
    },
    {
     "cell_type": "code",
     "collapsed": false,
     "input": [
      "x, y, z = symbols('x, y, z')\n",
      "expression = 2*x**4 + x**3*y + z**2\n",
      "expression.diff(x, 1)"
     ],
     "language": "python",
     "metadata": {},
     "outputs": [
      {
       "latex": [
        "$$8 x^{3} + 3 x^{2} y$$"
       ],
       "metadata": {},
       "output_type": "pyout",
       "png": "[encoded data removed]",
       "prompt_number": 109,
       "text": [
        "   3      2  \n",
        "8\u22c5x  + 3\u22c5x \u22c5y"
       ]
      }
     ],
     "prompt_number": 109
    },
    {
     "cell_type": "code",
     "collapsed": false,
     "input": [
      "expression.diff(x, y)"
     ],
     "language": "python",
     "metadata": {},
     "outputs": [
      {
       "latex": [
        "$$3 x^{2}$$"
       ],
       "metadata": {},
       "output_type": "pyout",
       "png": "[encoded data removed]",
       "prompt_number": 110,
       "text": [
        "   2\n",
        "3\u22c5x "
       ]
      }
     ],
     "prompt_number": 110
    },
    {
     "cell_type": "code",
     "collapsed": false,
     "input": [
      "expression.diff(z).subs(z, 2)"
     ],
     "language": "python",
     "metadata": {},
     "outputs": [
      {
       "latex": [
        "$$4$$"
       ],
       "metadata": {},
       "output_type": "pyout",
       "png": "[encoded data removed]",
       "prompt_number": 111,
       "text": [
        "4"
       ]
      }
     ],
     "prompt_number": 111
    },
    {
     "cell_type": "markdown",
     "metadata": {},
     "source": [
      "You can also create an unevaluated derivative object using the `Derivative` constructor"
     ]
    },
    {
     "cell_type": "code",
     "collapsed": false,
     "input": [
      "expression = 3 * x**2 + 4*x*y + y\n",
      "D = Derivative(expression, x)\n",
      "D"
     ],
     "language": "python",
     "metadata": {},
     "outputs": [
      {
       "latex": [
        "$$\\frac{\\partial}{\\partial x}\\left(3 x^{2} + 4 x y + y\\right)$$"
       ],
       "metadata": {},
       "output_type": "pyout",
       "png": "[encoded data removed]",
       "prompt_number": 240,
       "text": [
        "\u2202 \u239b   2            \u239e\n",
        "\u2500\u2500\u239d3\u22c5x  + 4\u22c5x\u22c5y + y\u23a0\n",
        "\u2202x                  "
       ]
      }
     ],
     "prompt_number": 240
    },
    {
     "cell_type": "markdown",
     "metadata": {},
     "source": [
      "To evaluate the derivative, call the `doit()` method"
     ]
    },
    {
     "cell_type": "code",
     "collapsed": false,
     "input": [
      "D.doit()"
     ],
     "language": "python",
     "metadata": {},
     "outputs": [
      {
       "latex": [
        "$$6 x + 4 y$$"
       ],
       "metadata": {},
       "output_type": "pyout",
       "png": "[encoded data removed]",
       "prompt_number": 241,
       "text": [
        "6\u22c5x + 4\u22c5y"
       ]
      }
     ],
     "prompt_number": 241
    },
    {
     "cell_type": "markdown",
     "metadata": {},
     "source": [
      "<h2>Integrals</h2>\n",
      "The `integrate` method behaves similarly. You can also pass a tuple of (variable, lower, upper) to calculate definite integrals.  Note that oo (thats double letter o) represents infinity and constants of integration are not included."
     ]
    },
    {
     "cell_type": "code",
     "collapsed": false,
     "input": [
      "expression.integrate(x)"
     ],
     "language": "python",
     "metadata": {},
     "outputs": [
      {
       "latex": [
        "$$\\frac{2 x^{5}}{5} + \\frac{x^{4} y}{4} + x z^{2}$$"
       ],
       "metadata": {},
       "output_type": "pyout",
       "png": "[encoded data removed]",
       "prompt_number": 112,
       "text": [
        "   5    4         \n",
        "2\u22c5x    x \u22c5y      2\n",
        "\u2500\u2500\u2500\u2500 + \u2500\u2500\u2500\u2500 + x\u22c5z \n",
        " 5      4         "
       ]
      }
     ],
     "prompt_number": 112
    },
    {
     "cell_type": "code",
     "collapsed": false,
     "input": [
      "expression.integrate(x, y, y)"
     ],
     "language": "python",
     "metadata": {},
     "outputs": [
      {
       "latex": [
        "$$\\frac{x^{4} y^{3}}{24} + y^{2} \\left(\\frac{x^{5}}{5} + \\frac{x z^{2}}{2}\\right)$$"
       ],
       "metadata": {},
       "output_type": "pyout",
       "png": "[encoded data removed]",
       "prompt_number": 113,
       "text": [
        " 4  3      \u239b 5      2\u239e\n",
        "x \u22c5y     2 \u239cx    x\u22c5z \u239f\n",
        "\u2500\u2500\u2500\u2500\u2500 + y \u22c5\u239c\u2500\u2500 + \u2500\u2500\u2500\u2500\u239f\n",
        "  24       \u239d5     2  \u23a0"
       ]
      }
     ],
     "prompt_number": 113
    },
    {
     "cell_type": "code",
     "collapsed": false,
     "input": [
      "expression.integrate((x, 1, 2))"
     ],
     "language": "python",
     "metadata": {},
     "outputs": [
      {
       "latex": [
        "$$\\frac{15 y}{4} + z^{2} + \\frac{62}{5}$$"
       ],
       "metadata": {},
       "output_type": "pyout",
       "png": "[encoded data removed]",
       "prompt_number": 114,
       "text": [
        "15\u22c5y    2   62\n",
        "\u2500\u2500\u2500\u2500 + z  + \u2500\u2500\n",
        " 4          5 "
       ]
      }
     ],
     "prompt_number": 114
    },
    {
     "cell_type": "markdown",
     "metadata": {},
     "source": [
      "You can also create an unevaluated integral using the `Integral` constructor."
     ]
    },
    {
     "cell_type": "code",
     "collapsed": false,
     "input": [
      "expression = 2*x**2 + 3\n",
      "I = Integral(expression, x)\n",
      "I"
     ],
     "language": "python",
     "metadata": {},
     "outputs": [
      {
       "latex": [
        "$$\\int 2 x^{2} + 3\\, dx$$"
       ],
       "metadata": {},
       "output_type": "pyout",
       "png": "[encoded data removed]",
       "prompt_number": 242,
       "text": [
        "\u2320              \n",
        "\u23ae \u239b   2    \u239e   \n",
        "\u23ae \u239d2\u22c5x  + 3\u23a0 dx\n",
        "\u2321              "
       ]
      }
     ],
     "prompt_number": 242
    },
    {
     "cell_type": "markdown",
     "metadata": {},
     "source": [
      "This integral can be evaluated using its `doit()` method, returning the indefinite integral"
     ]
    },
    {
     "cell_type": "code",
     "collapsed": false,
     "input": [
      "I.doit()"
     ],
     "language": "python",
     "metadata": {},
     "outputs": [
      {
       "latex": [
        "$$\\frac{2 x^{3}}{3} + 3 x$$"
       ],
       "metadata": {},
       "output_type": "pyout",
       "png": "[encoded data removed]",
       "prompt_number": 238,
       "text": [
        "   3      \n",
        "2\u22c5x       \n",
        "\u2500\u2500\u2500\u2500 + 3\u22c5x\n",
        " 3        "
       ]
      }
     ],
     "prompt_number": 238
    },
    {
     "cell_type": "markdown",
     "metadata": {},
     "source": [
      "Multiple integrals can be taken by passing multiple symbols after the expression in the constructor.  In this case, `doit()` will find the entire indefinite integral."
     ]
    },
    {
     "cell_type": "code",
     "collapsed": false,
     "input": [
      "I = Integral(expression, x, y)\n",
      "I"
     ],
     "language": "python",
     "metadata": {},
     "outputs": [
      {
       "latex": [
        "$$\\iint 2 x^{2} + 3\\, dx\\, dy$$"
       ],
       "metadata": {},
       "output_type": "pyout",
       "png": "[encoded data removed]",
       "prompt_number": 245,
       "text": [
        "\u2320 \u2320                 \n",
        "\u23ae \u23ae \u239b   2    \u239e      \n",
        "\u23ae \u23ae \u239d2\u22c5x  + 3\u23a0 dx dy\n",
        "\u2321 \u2321                 "
       ]
      }
     ],
     "prompt_number": 245
    },
    {
     "cell_type": "code",
     "collapsed": false,
     "input": [
      "I.doit().expand()"
     ],
     "language": "python",
     "metadata": {},
     "outputs": [
      {
       "latex": [
        "$$\\frac{2 y}{3} x^{3} + 3 x y$$"
       ],
       "metadata": {},
       "output_type": "pyout",
       "png": "[encoded data removed]",
       "prompt_number": 247,
       "text": [
        "   3          \n",
        "2\u22c5x \u22c5y        \n",
        "\u2500\u2500\u2500\u2500\u2500\u2500 + 3\u22c5x\u22c5y\n",
        "  3           "
       ]
      }
     ],
     "prompt_number": 247
    },
    {
     "cell_type": "code",
     "collapsed": false,
     "input": [
      "from sympy.integrals.manualintegrate import integral_steps\n",
      "integral_steps(exp(x) / (1 + exp(2 * x)), x)"
     ],
     "language": "python",
     "metadata": {},
     "outputs": [
      {
       "latex": [
        "$$\\begin{pmatrix}u, & e^{x}, & 1, & \\begin{pmatrix}\\frac{1}{u^{2} + 1}, & u\\end{pmatrix}, & \\frac{e^{x}}{e^{2 x} + 1}, & x\\end{pmatrix}$$"
       ],
       "metadata": {},
       "output_type": "pyout",
       "png": "[encoded data removed]",
       "prompt_number": 21,
       "text": [
        "\u239b                           x      \u239e\n",
        "\u239c    x     \u239b  1      \u239e     \u212f       \u239f\n",
        "\u239cu, \u212f , 1, \u239c\u2500\u2500\u2500\u2500\u2500\u2500, u\u239f, \u2500\u2500\u2500\u2500\u2500\u2500\u2500\u2500, x\u239f\n",
        "\u239c          \u239c 2       \u239f   2\u22c5x       \u239f\n",
        "\u239d          \u239du  + 1   \u23a0  \u212f    + 1   \u23a0"
       ]
      }
     ],
     "prompt_number": 21
    },
    {
     "cell_type": "markdown",
     "metadata": {},
     "source": [
      "<h2>Limits</h2>\n",
      "the method `limit` can calculate limits with infinity (using oo).  Though you can use `subs` and oo together, it cannot evaluate the rate of growth as seen below."
     ]
    },
    {
     "cell_type": "code",
     "collapsed": false,
     "input": [
      "expression = x / (x**2 + 2)\n",
      "expression.subs('x',oo)"
     ],
     "language": "python",
     "metadata": {},
     "outputs": [
      {
       "latex": [
        "$$\\mathrm{NaN}$$"
       ],
       "metadata": {},
       "output_type": "pyout",
       "png": "[encoded data removed]",
       "prompt_number": 202,
       "text": [
        "nan"
       ]
      }
     ],
     "prompt_number": 202
    },
    {
     "cell_type": "code",
     "collapsed": false,
     "input": [
      "expression.limit(x, oo)"
     ],
     "language": "python",
     "metadata": {},
     "outputs": [
      {
       "latex": [
        "$$0$$"
       ],
       "metadata": {},
       "output_type": "pyout",
       "png": "[encoded data removed]",
       "prompt_number": 205,
       "text": [
        "0"
       ]
      }
     ],
     "prompt_number": 205
    },
    {
     "cell_type": "markdown",
     "metadata": {},
     "source": [
      "One-sided limits can also be found by passing '+' or '-' as a third argument."
     ]
    },
    {
     "cell_type": "code",
     "collapsed": false,
     "input": [
      "expression = 1 / x\n",
      "expression.limit(x, 0, \"+\"), expression.limit(x, 0, \"-\")"
     ],
     "language": "python",
     "metadata": {},
     "outputs": [
      {
       "latex": [
        "$$\\begin{pmatrix}\\infty, & -\\infty\\end{pmatrix}$$"
       ],
       "metadata": {},
       "output_type": "pyout",
       "png": "[encoded data removed]",
       "prompt_number": 208,
       "text": [
        "(\u221e, -\u221e)"
       ]
      }
     ],
     "prompt_number": 208
    },
    {
     "cell_type": "markdown",
     "metadata": {},
     "source": [
      "<h2>Series Expansion</h2>\n",
      "the method `series(x, x0, n)` returns a taylor series centered at $x_0$ expanded $n$ times.  Below is the six term macclauren series expansion of the sine function.  The order term can be removed using the `removeO()` method."
     ]
    },
    {
     "cell_type": "code",
     "collapsed": false,
     "input": [
      "expression = sin(x)\n",
      "expression.series(x, 0, 6)"
     ],
     "language": "python",
     "metadata": {},
     "outputs": [
      {
       "latex": [
        "$$x - \\frac{x^{3}}{6} + \\frac{x^{5}}{120} + \\mathcal{O}\\left(x^{6}\\right)$$"
       ],
       "metadata": {},
       "output_type": "pyout",
       "png": "[encoded data removed]",
       "prompt_number": 213,
       "text": [
        "     3     5        \n",
        "    x     x     \u239b 6\u239e\n",
        "x - \u2500\u2500 + \u2500\u2500\u2500 + O\u239dx \u23a0\n",
        "    6    120        "
       ]
      }
     ],
     "prompt_number": 213
    },
    {
     "cell_type": "markdown",
     "metadata": {},
     "source": [
      "<h1>Statistics</h1>\n",
      "<p>The SymPy stats module expands our CAS with a random variable object.  But we can also use expressions to define probability densities of various r.v.'s</p>"
     ]
    },
    {
     "cell_type": "code",
     "collapsed": false,
     "input": [
      "x, u, s = symbols('x mu sigma')\n",
      "expression = (1 / (s * sqrt(2 * pi))) * exp(-((x - u)**2/(sqrt(2) * s)**2))\n",
      "expression"
     ],
     "language": "python",
     "metadata": {},
     "outputs": [
      {
       "latex": [
        "$$\\frac{\\sqrt{2}}{2 \\sqrt{\\pi} \\sigma} e^{- \\frac{\\left(- \\mu + x\\right)^{2}}{2 \\sigma^{2}}}$$"
       ],
       "metadata": {},
       "output_type": "pyout",
       "png": "[encoded data removed]",
       "prompt_number": 179,
       "text": [
        "                2 \n",
        "       -(-\u03bc + x)  \n",
        "       \u2500\u2500\u2500\u2500\u2500\u2500\u2500\u2500\u2500\u2500\u2500\n",
        "              2   \n",
        "  ___      2\u22c5\u03c3    \n",
        "\u2572\u2571 2 \u22c5\u212f           \n",
        "\u2500\u2500\u2500\u2500\u2500\u2500\u2500\u2500\u2500\u2500\u2500\u2500\u2500\u2500\u2500\u2500\u2500\u2500\n",
        "        ___       \n",
        "    2\u22c5\u2572\u2571 \u03c0 \u22c5\u03c3     "
       ]
      }
     ],
     "prompt_number": 179
    },
    {
     "cell_type": "code",
     "collapsed": false,
     "input": [
      "expression.subs([('mu', 0),('sigma', 1)]).integrate(('x',0.2,oo)).evalf(10)"
     ],
     "language": "python",
     "metadata": {},
     "outputs": [
      {
       "latex": [
        "$$0.4207402906$$"
       ],
       "metadata": {},
       "output_type": "pyout",
       "png": "[encoded data removed]",
       "prompt_number": 188,
       "text": [
        "0.4207402906"
       ]
      }
     ],
     "prompt_number": 188
    },
    {
     "cell_type": "code",
     "collapsed": false,
     "input": [
      "from sympy.stats import Normal, P, variance, E"
     ],
     "language": "python",
     "metadata": {},
     "outputs": [],
     "prompt_number": 190
    },
    {
     "cell_type": "code",
     "collapsed": false,
     "input": [
      "x = Normal('x', 0, 1)"
     ],
     "language": "python",
     "metadata": {},
     "outputs": [],
     "prompt_number": 191
    },
    {
     "cell_type": "code",
     "collapsed": false,
     "input": [
      "expression = x + 2*y\n",
      "expression"
     ],
     "language": "python",
     "metadata": {},
     "outputs": [
      {
       "latex": [
        "$$2 y + x$$"
       ],
       "metadata": {},
       "output_type": "pyout",
       "png": "[encoded data removed]",
       "prompt_number": 194,
       "text": [
        "2\u22c5y + x"
       ]
      }
     ],
     "prompt_number": 194
    },
    {
     "cell_type": "code",
     "collapsed": false,
     "input": [
      "variance(expression)"
     ],
     "language": "python",
     "metadata": {},
     "outputs": [
      {
       "latex": [
        "$$1$$"
       ],
       "metadata": {},
       "output_type": "pyout",
       "png": "[encoded data removed]",
       "prompt_number": 196,
       "text": [
        "1"
       ]
      }
     ],
     "prompt_number": 196
    },
    {
     "cell_type": "markdown",
     "metadata": {},
     "source": [
      "<h1>Matrices</h1>\n",
      "A matrix is initalized by providing a list of row vectors to the `Matrix()` constructor.\n",
      "Unlike symbol objects, matrix objects are fully mutable.  This means that they cannot be used as keys to a dictionary or inside other sympy expressions.  There is an immutable version of the matrix class called ImmutableMatrix strictly for this purpose."
     ]
    },
    {
     "cell_type": "code",
     "collapsed": false,
     "input": [
      "m = Matrix([[4, -2],[-3, 9],[4, 1]])\n",
      "m"
     ],
     "language": "python",
     "metadata": {},
     "outputs": [
      {
       "latex": [
        "$$\\left[\\begin{matrix}4 & -2\\\\-3 & 9\\\\4 & 1\\end{matrix}\\right]$$"
       ],
       "metadata": {},
       "output_type": "pyout",
       "png": "[encoded data removed]",
       "prompt_number": 248,
       "text": [
        "\u23a14   -2\u23a4\n",
        "\u23a2      \u23a5\n",
        "\u23a2-3  9 \u23a5\n",
        "\u23a2      \u23a5\n",
        "\u23a34   1 \u23a6"
       ]
      }
     ],
     "prompt_number": 248
    },
    {
     "cell_type": "markdown",
     "metadata": {},
     "source": [
      "If you only pass a single list, the matrix is assumed to be a column vector"
     ]
    },
    {
     "cell_type": "code",
     "collapsed": false,
     "input": [
      "m = Matrix([4, 3, 2, 1])\n",
      "m"
     ],
     "language": "python",
     "metadata": {},
     "outputs": [
      {
       "latex": [
        "$$\\left[\\begin{matrix}4\\\\3\\\\2\\\\1\\end{matrix}\\right]$$"
       ],
       "metadata": {},
       "output_type": "pyout",
       "png": "[encoded data removed]",
       "prompt_number": 249,
       "text": [
        "\u23a14\u23a4\n",
        "\u23a2 \u23a5\n",
        "\u23a23\u23a5\n",
        "\u23a2 \u23a5\n",
        "\u23a22\u23a5\n",
        "\u23a2 \u23a5\n",
        "\u23a31\u23a6"
       ]
      }
     ],
     "prompt_number": 249
    },
    {
     "cell_type": "markdown",
     "metadata": {},
     "source": [
      "matrix objects are manipulated just like any other object in python"
     ]
    },
    {
     "cell_type": "code",
     "collapsed": false,
     "input": [
      "M = Matrix([[2, 3],[4, 4]])\n",
      "N = Matrix([[3, 2],[9, -1]])"
     ],
     "language": "python",
     "metadata": {},
     "outputs": [],
     "prompt_number": 250
    },
    {
     "cell_type": "code",
     "collapsed": false,
     "input": [
      "M + N"
     ],
     "language": "python",
     "metadata": {},
     "outputs": [
      {
       "latex": [
        "$$\\left[\\begin{matrix}5 & 5\\\\13 & 3\\end{matrix}\\right]$$"
       ],
       "metadata": {},
       "output_type": "pyout",
       "png": "[encoded data removed]",
       "prompt_number": 252,
       "text": [
        "\u23a15   5\u23a4\n",
        "\u23a2     \u23a5\n",
        "\u23a313  3\u23a6"
       ]
      }
     ],
     "prompt_number": 252
    },
    {
     "cell_type": "code",
     "collapsed": false,
     "input": [
      "M * N"
     ],
     "language": "python",
     "metadata": {},
     "outputs": [
      {
       "latex": [
        "$$\\left[\\begin{matrix}33 & 1\\\\48 & 4\\end{matrix}\\right]$$"
       ],
       "metadata": {},
       "output_type": "pyout",
       "png": "[encoded data removed]",
       "prompt_number": 253,
       "text": [
        "\u23a133  1\u23a4\n",
        "\u23a2     \u23a5\n",
        "\u23a348  4\u23a6"
       ]
      }
     ],
     "prompt_number": 253
    },
    {
     "cell_type": "markdown",
     "metadata": {},
     "source": [
      "Raising a matrix to the $-1$ returns the matrix inverse"
     ]
    },
    {
     "cell_type": "code",
     "collapsed": false,
     "input": [
      "M**-1"
     ],
     "language": "python",
     "metadata": {},
     "outputs": [
      {
       "latex": [
        "$$\\left[\\begin{matrix}-1 & \\frac{3}{4}\\\\1 & - \\frac{1}{2}\\end{matrix}\\right]$$"
       ],
       "metadata": {},
       "output_type": "pyout",
       "png": "[encoded data removed]",
       "prompt_number": 255,
       "text": [
        "\u23a1-1  3/4 \u23a4\n",
        "\u23a2        \u23a5\n",
        "\u23a31   -1/2\u23a6"
       ]
      }
     ],
     "prompt_number": 255
    },
    {
     "cell_type": "markdown",
     "metadata": {},
     "source": [
      "<h1>Formal Logic</h1>\n",
      "SymPy can evaluate and simplify logical sentences using symbols and standard python operators `&`, `|`, and `&`, not is denoted with a tilde `~`."
     ]
    },
    {
     "cell_type": "code",
     "collapsed": false,
     "input": [
      "x, y = symbols('x y')\n",
      "expression = y | (x & y)\n",
      "expression"
     ],
     "language": "python",
     "metadata": {},
     "outputs": [
      {
       "latex": [
        "$$y \\vee \\left(x \\wedge y\\right)$$"
       ],
       "metadata": {},
       "output_type": "pyout",
       "png": "[encoded data removed]",
       "prompt_number": 5,
       "text": [
        "y \u2228 (x \u2227 y)"
       ]
      }
     ],
     "prompt_number": 5
    },
    {
     "cell_type": "code",
     "collapsed": false,
     "input": [
      "expression = ~y & x\n",
      "expression"
     ],
     "language": "python",
     "metadata": {},
     "outputs": [
      {
       "latex": [
        "$$x \\wedge \\neg y$$"
       ],
       "metadata": {},
       "output_type": "pyout",
       "png": "[encoded data removed]",
       "prompt_number": 14,
       "text": [
        "x \u2227 \u00acy"
       ]
      }
     ],
     "prompt_number": 14
    },
    {
     "cell_type": "markdown",
     "metadata": {},
     "source": [
      "Implication is denoted with `<<` and `>>`"
     ]
    },
    {
     "cell_type": "code",
     "collapsed": false,
     "input": [
      "expression = x >> y\n",
      "expression"
     ],
     "language": "python",
     "metadata": {},
     "outputs": [
      {
       "latex": [
        "$$x \\Rightarrow y$$"
       ],
       "metadata": {},
       "output_type": "pyout",
       "png": "[encoded data removed]",
       "prompt_number": 8,
       "text": [
        "x \u2192 y"
       ]
      }
     ],
     "prompt_number": 8
    },
    {
     "cell_type": "markdown",
     "metadata": {},
     "source": [
      "Substitution is treated just like an algebraic expression"
     ]
    },
    {
     "cell_type": "code",
     "collapsed": false,
     "input": [
      "expression = y >> x\n",
      "expression.subs(y, True)"
     ],
     "language": "python",
     "metadata": {},
     "outputs": [
      {
       "latex": [
        "$$x$$"
       ],
       "metadata": {},
       "output_type": "pyout",
       "png": "[encoded data removed]",
       "prompt_number": 9,
       "text": [
        "x"
       ]
      }
     ],
     "prompt_number": 9
    },
    {
     "cell_type": "markdown",
     "metadata": {},
     "source": [
      "simplification of more complicated sentences comes from the sympy.logic function `simplify_logic`"
     ]
    },
    {
     "cell_type": "code",
     "collapsed": false,
     "input": [
      "from sympy.logic import simplify_logic\n",
      "x, y, z = symbols('x, y, z')\n",
      "expression = (~x & ~y & ~z) | (~x & ~y & z)\n",
      "expression"
     ],
     "language": "python",
     "metadata": {},
     "outputs": [
      {
       "latex": [
        "$$\\left(z \\wedge \\neg x \\wedge \\neg y\\right) \\vee \\left(\\neg x \\wedge \\neg y \\wedge \\neg z\\right)$$"
       ],
       "metadata": {},
       "output_type": "pyout",
       "png": "[encoded data removed]",
       "prompt_number": 11,
       "text": [
        "(z \u2227 \u00acx \u2227 \u00acy) \u2228 (\u00acx \u2227 \u00acy \u2227 \u00acz)"
       ]
      }
     ],
     "prompt_number": 11
    },
    {
     "cell_type": "code",
     "collapsed": false,
     "input": [
      "simplify_logic(expression)"
     ],
     "language": "python",
     "metadata": {},
     "outputs": [
      {
       "latex": [
        "$$\\neg x \\wedge \\neg y$$"
       ],
       "metadata": {},
       "output_type": "pyout",
       "png": "[encoded data removed]",
       "prompt_number": 12,
       "text": [
        "\u00acx \u2227 \u00acy"
       ]
      }
     ],
     "prompt_number": 12
    },
    {
     "cell_type": "code",
     "collapsed": false,
     "input": [],
     "language": "python",
     "metadata": {},
     "outputs": [],
     "prompt_number": 36
    },
    {
     "cell_type": "code",
     "collapsed": false,
     "input": [],
     "language": "python",
     "metadata": {},
     "outputs": [],
     "prompt_number": 36
    },
    {
     "cell_type": "code",
     "collapsed": false,
     "input": [],
     "language": "python",
     "metadata": {},
     "outputs": [],
     "prompt_number": 36
    },
    {
     "cell_type": "code",
     "collapsed": false,
     "input": [],
     "language": "python",
     "metadata": {},
     "outputs": [],
     "prompt_number": 36
    },
    {
     "cell_type": "code",
     "collapsed": false,
     "input": [],
     "language": "python",
     "metadata": {},
     "outputs": [],
     "prompt_number": 36
    },
    {
     "cell_type": "code",
     "collapsed": false,
     "input": [],
     "language": "python",
     "metadata": {},
     "outputs": []
    }
   ],
   "metadata": {}
  }
 ]
}