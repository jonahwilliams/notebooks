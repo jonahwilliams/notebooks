{
 "cells": [
  {
   "cell_type": "markdown",
   "metadata": {},
   "source": [
    "<h3>Subgradients</h3>\n",
    "Many ANN functions make use of the max() function, therefore requiring the use of subgradients.\n",
    "\\begin{align}\n",
    "f(x, y) = max(x, y) \\\\\n",
    "\\frac{\\partial f}{\\partial x} = I(x \\geq y)\\\\\n",
    "\\frac{\\partial f}{\\partial y} = I(y \\geq x)\n",
    "\\end{align}\n",
    "Intuitively, if the current values of x and y are $[4, 1]$, the subgradient with respect to y would be 0 since the function is insensitive to changes in y until it is greater than or equal to 4.\n",
    "\n",
    "\n",
    "<h3>Chain Rule</h3>\n",
    "ANNs make use of the chain rule to adjust the weights of all layers based on the output at the final layer.  The chain rule states that if we have some $f(u, v)$ and $u(x, y)$, $v(x, y)$, then the partial derivatives of f with respect to x and y can be calculated as \n",
    "\n",
    "$$\\nabla_x f = \\frac{\\partial f}{\\partial u}\\frac{\\partial u}{\\partial x} +  \\frac{\\partial f}{\\partial v}\\frac{\\partial v}{\\partial x}$$\n",
    "\n",
    "Consider a simple ANN with one input layer of ten variables, one hiden layer with 4 units (sigmoid), and one output layer for 3 classes(softmax).\n",
    "\n",
    "If our input vector $X$ is $10 \\times 1$, the weight vector $W$ is $4 \\times 10$ and the bias $b$ is $10 \\times 2$.\n",
    "\n",
    "The hidden layer is computed as\n",
    "\n",
    "$$A = \\sigma(W \\cdot X  + b)$$\n",
    "\n",
    "Where A is of shape $4 \\times 1$\n",
    "\n",
    "$Y = Softmax(A)$\n",
    "\n",
    "Where Y is of Shape $3 \\times 1$"
   ]
  },
  {
   "cell_type": "code",
   "execution_count": null,
   "metadata": {
    "collapsed": true
   },
   "outputs": [],
   "source": []
  }
 ],
 "metadata": {
  "kernelspec": {
   "display_name": "Python 2",
   "language": "python",
   "name": "python2"
  },
  "language_info": {
   "codemirror_mode": {
    "name": "ipython",
    "version": 2
   },
   "file_extension": ".py",
   "mimetype": "text/x-python",
   "name": "python",
   "nbconvert_exporter": "python",
   "pygments_lexer": "ipython2",
   "version": "2.7.9"
  }
 },
 "nbformat": 4,
 "nbformat_minor": 0
}
