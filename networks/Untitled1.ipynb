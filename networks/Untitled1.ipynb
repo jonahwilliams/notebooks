{
 "cells": [
  {
   "cell_type": "code",
   "execution_count": 1,
   "metadata": {
    "collapsed": true
   },
   "outputs": [],
   "source": [
    "import seaborn as sns"
   ]
  },
  {
   "cell_type": "code",
   "execution_count": 2,
   "metadata": {
    "collapsed": true
   },
   "outputs": [],
   "source": [
    "import matplotlib.pyplot as plt\n",
    "%matplotlib inline"
   ]
  },
  {
   "cell_type": "code",
   "execution_count": 4,
   "metadata": {
    "collapsed": false
   },
   "outputs": [
    {
     "data": {
      "image/png": "[encoded data removed]",
      "text/plain": [
       "<matplotlib.figure.Figure at 0x10a04d750>"
      ]
     },
     "metadata": {},
     "output_type": "display_data"
    }
   ],
   "source": [
    "sns.palplot(sns.color_palette(\"hls\", 7))"
   ]
  },
  {
   "cell_type": "code",
   "execution_count": 7,
   "metadata": {
    "collapsed": false
   },
   "outputs": [
    {
     "data": {
      "text/plain": [
       "[(0.86, 0.37119999999999997, 0.33999999999999997),\n",
       " (0.86, 0.8169142857142857, 0.33999999999999997),\n",
       " (0.45737142857142832, 0.86, 0.33999999999999997),\n",
       " (0.33999999999999997, 0.86, 0.66834285714285713),\n",
       " (0.33999999999999997, 0.60594285714285712, 0.86),\n",
       " (0.51977142857142811, 0.33999999999999997, 0.86),\n",
       " (0.86, 0.33999999999999997, 0.7545142857142858)]"
      ]
     },
     "execution_count": 7,
     "metadata": {},
     "output_type": "execute_result"
    }
   ],
   "source": [
    "sns.color_palette(\"hls\", 7)"
   ]
  },
  {
   "cell_type": "code",
   "execution_count": 8,
   "metadata": {
    "collapsed": false
   },
   "outputs": [
    {
     "name": "stdout",
     "output_type": "stream",
     "text": [
      "(220.16, 95.027199999999993, 87.03999999999999)\n",
      "(220.16, 209.13005714285714, 87.03999999999999)\n",
      "(117.08708571428565, 220.16, 87.03999999999999)\n",
      "(87.03999999999999, 220.16, 171.09577142857142)\n",
      "(87.03999999999999, 155.12137142857142, 220.16)\n",
      "(133.0614857142856, 87.03999999999999, 220.16)\n",
      "(220.16, 87.03999999999999, 193.15565714285717)\n"
     ]
    }
   ],
   "source": [
    "for row in sns.color_palette(\"hls\", 7):\n",
    "    a,b,c = row\n",
    "    print (256 * a, 256 * b, 256 * c)"
   ]
  },
  {
   "cell_type": "code",
   "execution_count": null,
   "metadata": {
    "collapsed": true
   },
   "outputs": [],
   "source": []
  }
 ],
 "metadata": {
  "kernelspec": {
   "display_name": "Python 2",
   "language": "python",
   "name": "python2"
  },
  "language_info": {
   "codemirror_mode": {
    "name": "ipython",
    "version": 2
   },
   "file_extension": ".py",
   "mimetype": "text/x-python",
   "name": "python",
   "nbconvert_exporter": "python",
   "pygments_lexer": "ipython2",
   "version": "2.7.9"
  }
 },
 "nbformat": 4,
 "nbformat_minor": 0
}
