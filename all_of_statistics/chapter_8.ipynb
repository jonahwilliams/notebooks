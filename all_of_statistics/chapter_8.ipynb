{
 "metadata": {
  "name": "",
  "signature": "sha256:25d67f0781839ad536d413efd8c026eb975329980ff4906e46b2c8fce639e059"
 },
 "nbformat": 3,
 "nbformat_minor": 0,
 "worksheets": [
  {
   "cells": [
    {
     "cell_type": "markdown",
     "metadata": {},
     "source": [
      "<h1>Simulation</h1>\n",
      "Suppose we draw an IID sample $Y_1, Y_2, ..., Y_n$ from a distriubution G.  By the law of large numbers,\n",
      "\n",
      "$\\hat{Y}_n = \\frac{1}{B} \\sum \\limits_{j=1}^B Y_j \\rightarrow \\int ydG(y) = E(Y)$.\n",
      "\n",
      "So if we draw a large sample from G, we can use the sample mean to approximate the true mean.  In simulation we can make B as large as we like, in which case, the difference between the sample mean and true mean becomes negligable.  More generally, if h is any function with finite mean then\n",
      "\n",
      "$\\frac{1}{B} \\sum \\limits_{j=1}^B h(Y_i) \\rightarrow \\int h(y)dG(y) = E(h(Y))$\n",
      "\n",
      "in particular,\n",
      "\n",
      "$\\frac{1}{B} \\sum \\limits_{j=1}^B (Y_j - \\bar{Y})^2 = \\frac{1}{B} \\sum \\limits_{j=1}Y_j^2 - (\\frac{1}{B} \\sum \\limits_{j=1}Y_j)^2$\n",
      "\n",
      "$ = \\int y^2 dF(y) - (\\int y dF(y) )^2 = V(Y)$"
     ]
    },
    {
     "cell_type": "markdown",
     "metadata": {},
     "source": [
      "<h1>Bootstrap Variance Estimation</h1>\n",
      "Recall that the EDF puts point mass $\\frac{1}{n}$ at each point.  Then drawing an observation from $\\hat{F}_n$ is equivalent to drawing one point at random from the original population."
     ]
    },
    {
     "cell_type": "code",
     "collapsed": false,
     "input": [
      "from sklearn.datasets import *\n",
      "import matplotlib.pyplot as plt\n",
      "% matplotlib inline\n",
      "import numpy as np\n",
      "boston = load_boston()\n",
      "prices = boston['target']"
     ],
     "language": "python",
     "metadata": {},
     "outputs": [],
     "prompt_number": 34
    },
    {
     "cell_type": "markdown",
     "metadata": {},
     "source": [
      "<h3>Bootstrap Mean</h3>"
     ]
    },
    {
     "cell_type": "code",
     "collapsed": false,
     "input": [
      "B = 1000\n",
      "N = 200\n",
      "means = np.zeros(B, dtype=np.float)\n",
      "for j in xrange(B):\n",
      "    sample = np.random.choice(prices, size=N, replace=True)\n",
      "    means[j] = np.mean(sample)"
     ],
     "language": "python",
     "metadata": {},
     "outputs": [],
     "prompt_number": 28
    },
    {
     "cell_type": "code",
     "collapsed": false,
     "input": [
      "plt.hist(means, bins=20)\n",
      "plt.plot([np.mean(means), np.mean(means)],[0, 200], color=\"red\")"
     ],
     "language": "python",
     "metadata": {},
     "outputs": [
      {
       "metadata": {},
       "output_type": "pyout",
       "prompt_number": 29,
       "text": [
        "[<matplotlib.lines.Line2D at 0xc9ce550>]"
       ]
      },
      {
       "metadata": {},
       "output_type": "display_data",
       "png": "[encoded data removed]",
       "text": [
        "<matplotlib.figure.Figure at 0xc9ce4e0>"
       ]
      }
     ],
     "prompt_number": 29
    },
    {
     "cell_type": "markdown",
     "metadata": {},
     "source": [
      "<h3>Bootstrap se</h3>"
     ]
    },
    {
     "cell_type": "code",
     "collapsed": false,
     "input": [
      "B = 1000\n",
      "N = 200\n",
      "variance = np.zeros(B, dtype=np.float)\n",
      "for j in xrange(B):\n",
      "    sample = np.random.choice(prices, size=N, replace=True)\n",
      "    variance[j] = np.sqrt(np.mean(sample**2) - np.mean(sample)**2)"
     ],
     "language": "python",
     "metadata": {},
     "outputs": [],
     "prompt_number": 35
    },
    {
     "cell_type": "code",
     "collapsed": false,
     "input": [
      "plt.hist(variance, bins=20)\n",
      "plt.plot([np.mean(variance), np.mean(variance)],[0, 200], color=\"red\")"
     ],
     "language": "python",
     "metadata": {},
     "outputs": [
      {
       "metadata": {},
       "output_type": "pyout",
       "prompt_number": 36,
       "text": [
        "[<matplotlib.lines.Line2D at 0xd2ac4a8>]"
       ]
      },
      {
       "metadata": {},
       "output_type": "display_data",
       "png": "[encoded data removed]",
       "text": [
        "<matplotlib.figure.Figure at 0xd2ac0f0>"
       ]
      }
     ],
     "prompt_number": 36
    },
    {
     "cell_type": "markdown",
     "metadata": {},
     "source": [
      "<h3>Bootstrap Median</h3>"
     ]
    },
    {
     "cell_type": "code",
     "collapsed": false,
     "input": [
      "B = 1000\n",
      "N = 200\n",
      "medians = np.zeros(B, dtype=np.float)\n",
      "for j in xrange(B):\n",
      "    sample = np.random.choice(prices, size=N, replace=True)\n",
      "    medians[j] = np.median(sample)"
     ],
     "language": "python",
     "metadata": {},
     "outputs": [],
     "prompt_number": 37
    },
    {
     "cell_type": "code",
     "collapsed": false,
     "input": [
      "plt.hist(medians, bins=20)\n",
      "plt.plot([np.mean(medians), np.mean(medians)],[0, 200], color=\"red\")"
     ],
     "language": "python",
     "metadata": {},
     "outputs": [
      {
       "metadata": {},
       "output_type": "pyout",
       "prompt_number": 38,
       "text": [
        "[<matplotlib.lines.Line2D at 0xd8ab390>]"
       ]
      },
      {
       "metadata": {},
       "output_type": "display_data",
       "png": "[encoded data removed]",
       "text": [
        "<matplotlib.figure.Figure at 0xd8ab320>"
       ]
      }
     ],
     "prompt_number": 38
    },
    {
     "cell_type": "markdown",
     "metadata": {},
     "source": [
      "<h1>8.3 Bootstrap Confidence Intervals</h1>\n",
      "<h3>Method I: Normal Interval</h3>\n",
      "The simpliest method is the normal interval, though it is not accurate if the distribution of $T_n$ is not close to normal.\n",
      "\n",
      "$T_n \\pm z_{a/2}\\hat{se}_{boot}$\n",
      "\n",
      "<h3>Method II: Pivotal Intervals</h3>\n",
      "Summary: TLDR\n",
      "\n",
      "<h3>Method III: Percentile Intervals</h3>\n",
      "$C_n = (\\theta^*_{\\alpha/2},\\theta^*_{1 - \\alpha/2})$ "
     ]
    },
    {
     "cell_type": "code",
     "collapsed": false,
     "input": [],
     "language": "python",
     "metadata": {},
     "outputs": []
    }
   ],
   "metadata": {}
  }
 ]
}