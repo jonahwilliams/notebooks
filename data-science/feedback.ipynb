{
 "metadata": {
  "name": "",
  "signature": "sha256:570666de26aa0eb86e67e157e98acc0ecc8b9449e41cf8420cc219ea2544aa68"
 },
 "nbformat": 3,
 "nbformat_minor": 0,
 "worksheets": [
  {
   "cells": [
    {
     "cell_type": "markdown",
     "metadata": {},
     "source": [
      "<h1>Feedback on DataScience Program</h1>"
     ]
    },
    {
     "cell_type": "markdown",
     "metadata": {},
     "source": [
      "<h2>Intro to Data Science</h2>\n",
      "<p>The intro to data science class started out very strong, but I believe the focus was too broad and the topics covered were too strongly oriented towards use of specific R packages rather than a coneptual understanding of data products.  This was compounded by the weakness of the Linear Models course:  Once we had the data, there was little we could do with it in terms of analysis.  Coming from a strong programming perspective, I was hoping for more of \"what can we do with this data\" rather than \"here is how to get it.\"  While the homeworks were useful showing useful applications of the topics discussed, the lecture would be better presented as a computer lab setting.</p>  \n",
      "\n",
      "\n",
      "<p>Finally, regarding the project:  While we should be able to work in groups to develop a large data product, I don't feel like we had a clear understanding at the beginning of the course what the expectations or focus of the project were.  Furthermore, because we made our project choices at the beginning largely based on what we were comfortable with, few groups seemed to incorporate the later lessons into them.  Instead of one gargantuan project, three smaller projects with a more specific focus would be better suited for an introductory class.  These projects what be focused around the specific type of data we would be discussing, still open ended but with a smaller scope.  A large part of the learning process is learning from mistakes, observing what others do, and the expectations placed upon us.</p>"
     ]
    },
    {
     "cell_type": "markdown",
     "metadata": {},
     "source": [
      "<h2>Introduction to Linear Models</h2>\n",
      "<p>Like Intro to Data Science, linear models sufferes from trying to consider students from too broad a background.  Several days were spent on a review of probability and matrix topics, which should be understood before the class.</p>\n",
      "\n",
      "<p>much time was spent on diagnostic tests (that nobody does) and other topics that aren't as useful in a 'large data' enviorment, such as normality testing, stepwise regressions.  I felt like the class should have been more Problem(data) -> Solution(regression) oriented, with real datasets and a broad survey of topics (like intro to data science).  Especially when most statistical packages can calculate confidence intervals and p-values triviallly.</p>\n",
      "<p>Not to mention we never talked about an extremely important topic in data science: classification.  The focus on 'what interesting properties can we derive from extremely strong asumptions about our data' instead of an applied focus greatly hurt the appeal and applicability of the class.<p>\n",
      "\n",
      "<p>Ultimately the textbook and the class felt like a statistics course for social sciences, not data scientists.</p>"
     ]
    }
   ],
   "metadata": {}
  }
 ]
}