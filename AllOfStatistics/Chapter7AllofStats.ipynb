{
 "metadata": {
  "name": "",
  "signature": "sha256:3ff693f93c5437bdd5fee41184f74a6a66616e6ad0fdcf0320de50595bf57b1b"
 },
 "nbformat": 3,
 "nbformat_minor": 0,
 "worksheets": [
  {
   "cells": [
    {
     "cell_type": "markdown",
     "metadata": {},
     "source": [
      "<h1>7.1 The Empirical Distribution Function</h1>\n",
      "\n",
      "Let $X_1, ..., X_n \\rightarrow F$ be an iid sample where F is a distribution function on the real line.  We will estimate F with the empirical distribution function, which is defined as follows.\n",
      "\n",
      "the cdf that puts mass $\\frac{1}{n}$ at each data point $X_i$. formally,\n",
      "\n",
      "$\\hat{F}_N(x) = \\frac{\\sum \\limits_{i=1}^n I(X_i \\leq x)}{n}$\n",
      "\n",
      "Where $I$ is the indicator function.\n",
      "\n",
      "<h3>Properties of the EDF</h3>\n",
      "At any fixed value of x,\n",
      "\n",
      "\n",
      "$E(\\hat{F}_n(x)) = F(x)$,\n",
      "\n",
      "$V(\\hat{F}_n(x)) = \\frac{F(x)(1 - F(x))}{n}$,\n",
      "\n",
      "$MSE= \\frac{F(X)(1 - F(x))}{n} \\rightarrow 0$,\n",
      "\n",
      "$\\hat{F}_n(x) \\rightarrow F(x)$ in probability.\n",
      "\n",
      "<h3>Confidence Band of the EDF</h3>\n",
      "\n",
      "For a nonparametric $(1 - \\alpha)$ confidence band define,\n",
      "\n",
      "$L(x) = max(\\hat{F}_n(x) - \\epsilon_n, 0)$\n",
      "\n",
      "$U(x) = min(\\hat{F}_n(x) + \\epsilon_n, 1)$\n",
      "\n",
      "$\\epsilon_n = \\sqrt{\\frac{1}{2n}log(\\frac{2}{\\alpha})}$\n",
      "\n",
      "Then it follows from the DKW inequality that for any F,\n",
      "\n",
      "$P(L(x) \\leq F(x) \\leq U(x)$ for all x$) \\geq (1 - \\alpha)$"
     ]
    },
    {
     "cell_type": "markdown",
     "metadata": {},
     "source": [
      "<h1>7.2 Statistical Functionals</h1>\n",
      "A statistical function $T(F)$ is any function of $F$.  Examples are the mean, $\\mu = \\int x dF(x)$, the variance $\\sigma^2 = \\int (x - \\mu)^2 dF(x)$, and the median $m = F^{-1}(\\frac{1}{2})$.\n",
      "\n",
      "The plug-in estimator of $\\theta = T(F)$ is defined by \n",
      "\n",
      "$\\hat{\\theta}_n = T(\\hat{F}_n)$.\n",
      "\n",
      "In other words, just plug in $\\hat{F}_n$ for the unknown $F$.  if $T(F) = \\int r(x) dF(x)$ for some function $r(x)$, then T is called a linear functional."
     ]
    },
    {
     "cell_type": "code",
     "collapsed": false,
     "input": [],
     "language": "python",
     "metadata": {},
     "outputs": []
    }
   ],
   "metadata": {}
  }
 ]
}